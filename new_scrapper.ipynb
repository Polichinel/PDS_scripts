{
 "cells": [
  {
   "cell_type": "code",
   "execution_count": 1,
   "metadata": {
    "collapsed": true
   },
   "outputs": [],
   "source": [
    "import numpy as np\n",
    "import pandas as pd\n",
    "\n",
    "import pickle\n",
    "from congress import Congress\n",
    "import tweepy"
   ]
  },
  {
   "cell_type": "code",
   "execution_count": 2,
   "metadata": {},
   "outputs": [],
   "source": [
    "pkl_file = open('/home/polichinel/Dropbox/credential/essentials.pkl', 'rb')\n",
    "essentials = pickle.load(pkl_file)\n",
    "\n",
    "consumer_key = essentials[\"twitter_consumer_key\"]\n",
    "consumer_secret = essentials[\"twitter_consumer_secret\"]\n",
    "\n",
    "access_token = essentials[\"twitter_Access_Token\"]\n",
    "access_secret = essentials[\"twittet_Access_Token_Secret\"]\n",
    "\n",
    "auth = tweepy.OAuthHandler(consumer_key=consumer_key, consumer_secret=consumer_secret)\n",
    "auth.set_access_token(key=access_token, secret=access_secret)\n",
    "api = tweepy.API(auth, wait_on_rate_limit=True, wait_on_rate_limit_notify = True)\n",
    "\n",
    "congress = Congress(essentials[\"congress_key\"])\n",
    "\n",
    "\n",
    "pkl_file.close()"
   ]
  },
  {
   "cell_type": "code",
   "execution_count": 3,
   "metadata": {},
   "outputs": [],
   "source": [
    "senate = congress.members.filter(\"senate\")\n",
    "house = congress.members.filter(\"house\")\n",
    "\n",
    "senate_members = senate[0]['members']\n",
    "house_members = house[0]['members']\n",
    "\n",
    "df_senata = pd.DataFrame(senate_members)\n",
    "df_house = pd.DataFrame(house_members)\n",
    "\n",
    "\n",
    "legs = df_house.twitter_account\n",
    "legs = legs.append(df_senata.twitter_account)\n",
    "\n",
    "legs.dropna(inplace=True)"
   ]
  },
  {
   "cell_type": "code",
   "execution_count": 4,
   "metadata": {},
   "outputs": [
    {
     "name": "stdout",
     "output_type": "stream",
     "text": [
      "538\n"
     ]
    }
   ],
   "source": [
    "total_n = len(legs) # gives three more then before.\n",
    "print(total_n)"
   ]
  },
  {
   "cell_type": "code",
   "execution_count": 7,
   "metadata": {},
   "outputs": [
    {
     "name": "stdout",
     "output_type": "stream",
     "text": [
      "1/538 2/538 3/538 4/538 5/538 "
     ]
    }
   ],
   "source": [
    "# the scraping -----------------------------------------------------------------------\n",
    "\n",
    "time_lines = []\n",
    "x=0 # crahsed at 296\n",
    "\n",
    "for legislator in legs[0:5]: # set number if needed - last crash at 296\n",
    "    x=x+1\n",
    "    print(str(x) + \"/\" + str(total_n), end=' ') # printing horizontal \"loadingline\"\n",
    "    \n",
    "    #crash backup\n",
    "    file_name = \"/media/polichinel/DATA/backup/PDS_DATA/all_timelines/time_lines\" + str(x) + \".pkl\"\n",
    "    output = open(file_name, 'wb') # still not working right!!\n",
    "    pickle.dump(time_lines, output)\n",
    "    output.close()\n",
    "\n",
    "    try:\n",
    "        for tweet in tweepy.Cursor(api.user_timeline, id=legislator).items(100): # how many tweets from each pol - blank means to limit rata\n",
    "            time_lines.append(tweet)\n",
    "            \n",
    "    except(RuntimeError, TypeError, NameError, ZeroDivisionError, IndexError, tweepy.TweepError)  as e:\n",
    "        print(e, end=' ')\n",
    "        continue\n"
   ]
  },
  {
   "cell_type": "code",
   "execution_count": null,
   "metadata": {},
   "outputs": [],
   "source": [
    "len(time_lines)"
   ]
  },
  {
   "cell_type": "code",
   "execution_count": null,
   "metadata": {},
   "outputs": [],
   "source": [
    "# IS it safe?\n",
    "# output = open('time_lines.pkl', 'wb')\n",
    "# pickle.dump(time_lines, output)\n",
    "# output.close()"
   ]
  },
  {
   "cell_type": "code",
   "execution_count": null,
   "metadata": {
    "collapsed": true
   },
   "outputs": [],
   "source": [
    "# Making the dataframe\n",
    "\n",
    "def process_one_user(time_lines):\n",
    "    id_list = [tweet.id for tweet in time_lines]\n",
    "    data_set = pd.DataFrame(id_list, columns=[\"id\"])\n",
    "\n",
    "    # Processing Tweet Data\n",
    "\n",
    "    data_set[\"text\"] = [tweet.text for tweet in time_lines]\n",
    "    data_set[\"created_at\"] = [tweet.created_at for tweet in time_lines]\n",
    "    data_set[\"retweet_count\"] = [tweet.retweet_count for tweet in time_lines]\n",
    "    data_set[\"favorite_count\"] = [tweet.favorite_count for tweet in time_lines]\n",
    "    data_set[\"source\"] = [tweet.source for tweet in time_lines]\n",
    "\n",
    "    # Processing User Data\n",
    "    data_set[\"user_id\"] = [tweet.author.id for tweet in time_lines]\n",
    "    data_set[\"user_screen_name\"] = [tweet.author.screen_name for tweet in time_lines]\n",
    "    data_set[\"user_name\"] = [tweet.author.name for tweet in time_lines]\n",
    "    data_set[\"user_created_at\"] = [tweet.author.created_at for tweet in time_lines]\n",
    "    data_set[\"user_description\"] = [tweet.author.description for tweet in time_lines]\n",
    "    data_set[\"user_followers_count\"] = [tweet.author.followers_count for tweet in time_lines]\n",
    "    data_set[\"user_friends_count\"] = [tweet.author.friends_count for tweet in time_lines]\n",
    "    data_set[\"user_location\"] = [tweet.author.location for tweet in time_lines]\n",
    "\n",
    "    return data_set\n",
    "data_set = process_one_user(time_lines)"
   ]
  },
  {
   "cell_type": "code",
   "execution_count": null,
   "metadata": {
    "scrolled": false
   },
   "outputs": [],
   "source": [
    "print(\"dimensions of dataframe: \"  + str(data_set.shape))\n",
    "data_set.head(6)"
   ]
  },
  {
   "cell_type": "code",
   "execution_count": null,
   "metadata": {},
   "outputs": [],
   "source": [
    "data_set.tail(6)"
   ]
  },
  {
   "cell_type": "code",
   "execution_count": null,
   "metadata": {
    "collapsed": true
   },
   "outputs": [],
   "source": [
    "data_set.to_csv(\"new_new_many_tweets.csv\")"
   ]
  }
 ],
 "metadata": {
  "kernelspec": {
   "display_name": "Python 3",
   "language": "python",
   "name": "python3"
  },
  "language_info": {
   "codemirror_mode": {
    "name": "ipython",
    "version": 3
   },
   "file_extension": ".py",
   "mimetype": "text/x-python",
   "name": "python",
   "nbconvert_exporter": "python",
   "pygments_lexer": "ipython3",
   "version": "3.6.3"
  }
 },
 "nbformat": 4,
 "nbformat_minor": 2
}
