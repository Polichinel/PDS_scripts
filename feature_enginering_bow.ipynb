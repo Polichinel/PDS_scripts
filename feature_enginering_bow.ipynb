{
 "cells": [
  {
   "cell_type": "markdown",
   "metadata": {},
   "source": [
    "# Featuring enginering for bag-of-words representation\n",
    "\n",
    "### What you woul like to include:\n",
    "\n",
    "- uni-grams DONE\n",
    "- bi-grams DONE\n",
    "- tri-grams DONE\n",
    "- tf-idf (1,2,3 grams) DONE\n",
    "- number of exclamation marks DONE - but not concatenated\n",
    "- number of quesition marks DONE - but not concatenated\n",
    "- number of @ DONE - but not concatenated\n",
    "- number of # DONE - but not concatenated\n",
    "---\n",
    "- number of emojis\n",
    "- Specific @'s and #'s as individual features\n",
    "- Collections (of words that occure more often then random)\n",
    "- Part-of-spech tagging (why thou?)\n",
    "\n",
    "### how to reduce all that? DONE\n",
    "- Forward selection w/ logistic regression or NB (the fasttest or the best) evaluated by F1 (or random forest if it is as fast... For interactions.)\n",
    "- Backward selection w/ logistic regression or NB (the fastest or the best) evaluated by F1 (or random forest if it is as fast... For interactions.)\n",
    "\n",
    "- Sklearn has a procidure for feature slecetions with trees through feature importance.... Hmm..\n",
    "\n",
    "### What can exclude before F/B feature selection to minimize O: DONE\n",
    "- High frequency stopwords\n",
    "- low frequency rareties and clutter. 1 tweet?\n",
    "- Number?\n",
    "\n",
    "### What about tf-idf?: DONE\n",
    "Can it just be seen as some weigted n-gram?\n",
    "\n",
    "\n",
    "### And what about PCA's?\n",
    "- These do belong in before the feature selections.\n",
    "- But you cna easily set some threshold for explained variance\n",
    "- But where.... Maybe.. Can I create PCA on sub sets.... looping over all 1, but only a comparable batch of 0.\n",
    "- Btu there no security that you will identify the same PCA's each time..\n",
    "\n",
    "### To undersample/over sample ot not to under/oversmpel... DONE\n",
    "- Do oversmple..\n",
    "- Do all three ting... Dne you need som very easily mentained functions.\n",
    "- Starting with the under sampling, you allso get a felling of how long the feature selection will take\n",
    "- Maybe you only undersample for the feature selection - if tit takes a long time. The do all three when you do the final test?\n",
    "- But it should still be under 10000 obs if you oversample. Should not be a problem."
   ]
  },
  {
   "cell_type": "code",
   "execution_count": 1,
   "metadata": {},
   "outputs": [],
   "source": [
    "# Basics -----------------------------------------------------\n",
    "import pickle\n",
    "\n",
    "import numpy as np\n",
    "import pandas as pd\n",
    "from scipy import sparse\n",
    "\n",
    "import matplotlib.pyplot as plt\n",
    "import regex\n",
    "import re\n",
    "\n",
    "\n",
    "# NLTK -----------------------------------------------------\n",
    "\n",
    "import nltk\n",
    "from nltk.stem import WordNetLemmatizer\n",
    "lemmatizer = WordNetLemmatizer()\n",
    "#stop_words = set(nltk.corpus.stopwords.words(\"english\"))\n",
    "\n",
    "# Word2vec ----------------------------------------------------\n",
    "import gensim\n",
    "\n",
    "# SK learn --------------------------------------------------\n",
    "\n",
    "from sklearn.model_selection import train_test_split\n",
    "from sklearn.feature_selection import SelectFromModel\n",
    "from sklearn.decomposition import TruncatedSVD\n",
    "\n",
    "from sklearn import metrics\n",
    "\n",
    "from sklearn.feature_extraction.text import CountVectorizer\n",
    "from sklearn.feature_extraction.text import TfidfVectorizer\n",
    "\n",
    "from sklearn.naive_bayes import BernoulliNB\n",
    "from sklearn.linear_model import LogisticRegression\n",
    "from sklearn.ensemble import RandomForestClassifier\n",
    "\n",
    "# Sampling -------------------------------------------------\n",
    "\n",
    "from imblearn.over_sampling import RandomOverSampler\n",
    "from imblearn.over_sampling import SMOTE\n",
    "#from imblearn.under_sampling import RandomUnderSampler\n",
    "\n",
    "# DATA ------------------------------------------------------\n",
    "df = pd.read_csv(\"labled_tweets.csv\", index_col=0)"
   ]
  },
  {
   "cell_type": "markdown",
   "metadata": {},
   "source": [
    "# Split for inner and outer layer:"
   ]
  },
  {
   "cell_type": "code",
   "execution_count": 2,
   "metadata": {},
   "outputs": [],
   "source": [
    "y = df[\"lacking_dem_pref\"]\n",
    "X = df[\"text\"]\n",
    "\n",
    "# Outer layer\n",
    "X_train_out, X_test_out, y_train_out, y_test_out = train_test_split(X, y, test_size=0.20, random_state=42)\n",
    "\n",
    "# inner layer\n",
    "X_train, X_test, y_train, y_test = train_test_split(X_train_out, y_train_out, test_size=0.20, random_state=42)\n"
   ]
  },
  {
   "cell_type": "markdown",
   "metadata": {},
   "source": [
    "# Term document matrix:"
   ]
  },
  {
   "cell_type": "markdown",
   "metadata": {},
   "source": [
    "### Preproccesing"
   ]
  },
  {
   "cell_type": "code",
   "execution_count": 3,
   "metadata": {},
   "outputs": [
    {
     "data": {
      "text/plain": [
       "57554"
      ]
     },
     "execution_count": 3,
     "metadata": {},
     "output_type": "execute_result"
    }
   ],
   "source": [
    "def prep(text):\n",
    "    wordlist = nltk.word_tokenize(text)\n",
    "    wordlist = [lemmatizer.lemmatize(w.lower()) for w in wordlist]\n",
    "    return wordlist\n",
    "\n",
    "words = prep(df.text.to_string())\n",
    "len(words)"
   ]
  },
  {
   "cell_type": "code",
   "execution_count": 4,
   "metadata": {},
   "outputs": [
    {
     "name": "stdout",
     "output_type": "stream",
     "text": [
      "all tweets:\n",
      "[('...', 4987), ('@', 2183), ('the', 2089), (':', 1519), ('to', 1268), (',', 1041), ('#', 958), ('rt', 952), ('a', 874), ('i', 627), ('of', 626), ('.', 616), ('is', 511), ('in', 488), ('and', 480), ('on', 471), ('for', 427), ('we', 332), ('you', 320), ('with', 290)]\n",
      "\n",
      " -------------------\n"
     ]
    }
   ],
   "source": [
    "# For all text (why did you use wordF)\n",
    "dist = nltk.FreqDist(words)\n",
    "print(\"all tweets:\")\n",
    "print(dist.most_common(20))\n",
    "print(\"\\n\",\"-------------------\")"
   ]
  },
  {
   "cell_type": "code",
   "execution_count": 5,
   "metadata": {},
   "outputs": [
    {
     "data": {
      "image/png": "[encoded data removed]",
      "text/plain": [
       "<matplotlib.figure.Figure at 0x7f9f7c9a0fd0>"
      ]
     },
     "metadata": {},
     "output_type": "display_data"
    },
    {
     "data": {
      "image/png": "[encoded data removed]",
      "text/plain": [
       "<matplotlib.figure.Figure at 0x7f9f531a79e8>"
      ]
     },
     "metadata": {},
     "output_type": "display_data"
    }
   ],
   "source": [
    "# Reduction potantial:\n",
    "\n",
    "# High frequency words\n",
    "high_freq = {}\n",
    "\n",
    "high_range = np.arange(100,5000,100)\n",
    "\n",
    "for i in high_range:\n",
    "    temp_freq = []\n",
    "    for k, v in dist.items():\n",
    "        if v >= i:\n",
    "            temp_freq.append(k)\n",
    "    high_freq[\"freq\"+str(i)] = len(temp_freq)\n",
    "\n",
    "max_high = max(list(high_freq.values()))\n",
    "min_high = min(list(high_freq.values()))\n",
    "    \n",
    "plt.plot(high_range, list(high_freq.values()))\n",
    "plt.vlines(400, min_high,max_high, colors= \"darkorange\")\n",
    "\n",
    "plt.show()\n",
    "\n",
    "\n",
    "# Low frecuncy words\n",
    "low_freq = {}\n",
    "\n",
    "low_range = np.arange(1,50,1)\n",
    "\n",
    "for i in low_range:\n",
    "    temp_freq = []\n",
    "    for k, v in dist.items():\n",
    "        if v <= i:\n",
    "            temp_freq.append(k)\n",
    "    low_freq[\"freq\"+str(i)] = len(temp_freq)\n",
    "\n",
    "max_low = max(list(low_freq.values()))\n",
    "min_low = min(list(low_freq.values()))\n",
    "\n",
    "plt.plot(low_range, list(low_freq.values()))\n",
    "plt.vlines(3, min_low,max_low, colors= \"darkorange\")\n",
    "\n",
    "plt.show()"
   ]
  },
  {
   "cell_type": "code",
   "execution_count": 6,
   "metadata": {},
   "outputs": [
    {
     "name": "stdout",
     "output_type": "stream",
     "text": [
      "7190\n",
      "17\n",
      "7207\n"
     ]
    }
   ],
   "source": [
    "high_freq_remove = []\n",
    "low_freq_remove = []\n",
    "\n",
    "for i, j in dist.items():\n",
    "    if j >= 400:\n",
    "        high_freq_remove.append(i)\n",
    "    elif j <= 3:\n",
    "        low_freq_remove.append(i)\n",
    "        \n",
    "print(len(low_freq_remove))\n",
    "print(len(high_freq_remove))\n",
    "\n",
    "full_freq_remove = high_freq_remove + low_freq_remove\n",
    "\n",
    "print(len(full_freq_remove))"
   ]
  },
  {
   "cell_type": "code",
   "execution_count": 7,
   "metadata": {},
   "outputs": [],
   "source": [
    "# remove singeltons and doubles:\n",
    "short = []\n",
    "\n",
    "for i in words:\n",
    "    if len(i)<=2:\n",
    "        short.append(i)\n",
    "\n",
    "short_remove = list(set(short))\n",
    "\n",
    "full_remove = short_remove + full_freq_remove"
   ]
  },
  {
   "cell_type": "markdown",
   "metadata": {},
   "source": [
    "Du skal havde sortere twitter adresser ud så som: https://t.co/jEM7KCz3uT \n",
    "\n",
    "and also all punktuation.. \"...\" seems to have escapaded you \n",
    "\n",
    "REGEX!"
   ]
  },
  {
   "cell_type": "code",
   "execution_count": 8,
   "metadata": {},
   "outputs": [],
   "source": [
    "# A pickle for the word2vec implimentation\n",
    "output = open('full_remove.pkl', 'wb')\n",
    "\n",
    "# Pickle dictionary using protocol 0.\n",
    "pickle.dump(full_remove, output)\n",
    "\n",
    "output.close()"
   ]
  },
  {
   "cell_type": "code",
   "execution_count": 9,
   "metadata": {},
   "outputs": [
    {
     "data": {
      "text/plain": [
       "19479"
      ]
     },
     "execution_count": 9,
     "metadata": {},
     "output_type": "execute_result"
    }
   ],
   "source": [
    "stop_words = []#[\"goptaxscam\"] # for now no stopwords\n",
    "\n",
    "def prep2(text):\n",
    "    wordlist = nltk.word_tokenize(text)\n",
    "    wordlist = [lemmatizer.lemmatize(w.lower()) for w in wordlist]\n",
    "    wordlist = [w for w in wordlist if w not in full_remove and w not in stop_words]\n",
    "    return wordlist\n",
    "\n",
    "words_processed = prep2(df.text.to_string())\n",
    "len(words_processed)"
   ]
  },
  {
   "cell_type": "code",
   "execution_count": 10,
   "metadata": {},
   "outputs": [],
   "source": [
    "# Can't pickle a function...\n",
    "# A pickle for the word2vec implimentation\n",
    "output = open('prep2.pkl', 'wb')\n",
    "\n",
    "# Pickle dictionary using protocol 0.\n",
    "pickle.dump(prep2, output)\n",
    "\n",
    "output.close()"
   ]
  },
  {
   "cell_type": "code",
   "execution_count": 11,
   "metadata": {},
   "outputs": [
    {
     "name": "stdout",
     "output_type": "stream",
     "text": [
      "all tweets:\n",
      "[('you', 320), ('with', 290), ('goptaxscam', 289), ('great', 258), ('this', 248), ('will', 247), ('our', 243), ('tax', 225), ('today', 221), ('that', 215), ('are', 213), ('amp', 169), ('have', 168), ('thank', 161), ('http', 159), ('from', 150), ('just', 144), ('house', 133), ('republican', 126), ('all', 115)]\n",
      "\n",
      " -------------------\n"
     ]
    }
   ],
   "source": [
    "# For all text (why did you use wordF)\n",
    "dist = nltk.FreqDist(words_processed)\n",
    "print(\"all tweets:\")\n",
    "print(dist.most_common(20))\n",
    "print(\"\\n\",\"-------------------\")"
   ]
  },
  {
   "cell_type": "markdown",
   "metadata": {},
   "source": [
    "## Count vectorizer"
   ]
  },
  {
   "cell_type": "code",
   "execution_count": 12,
   "metadata": {},
   "outputs": [],
   "source": [
    "unigram_vectorizer = CountVectorizer(tokenizer=prep2) \n",
    "bigram_vectorizer =  CountVectorizer(ngram_range=(2,2), tokenizer=prep2) \n",
    "trigram_vectorizer = CountVectorizer(ngram_range=(3,3), tokenizer=prep2)\n",
    "\n",
    "X_train_dtm_1C = unigram_vectorizer.fit_transform(X_train) \n",
    "X_test_dtm_1C = unigram_vectorizer.transform(X_test)\n",
    "\n",
    "X_dtm_1C = (X_train_dtm_1C, X_test_dtm_1C)\n",
    "\n",
    "X_train_dtm_2C = bigram_vectorizer.fit_transform(X_train) \n",
    "X_test_dtm_2C = bigram_vectorizer.transform(X_test)\n",
    "\n",
    "X_dtm_2C = (X_train_dtm_2C, X_test_dtm_2C)\n",
    "\n",
    "X_train_dtm_3C = trigram_vectorizer.fit_transform(X_train) \n",
    "X_test_dtm_3C = trigram_vectorizer.transform(X_test)\n",
    "\n",
    "X_dtm_3C = (X_train_dtm_3C, X_test_dtm_3C)\n",
    "\n",
    "# --------------------------------------------\n",
    "\n",
    "X_train_dtm_allC = sparse.hstack([X_train_dtm_1C, X_train_dtm_2C, X_train_dtm_3C])\n",
    "X_test_dtm_allC = sparse.hstack([X_test_dtm_1C, X_test_dtm_2C, X_test_dtm_3C])\n",
    "\n",
    "X_dtm_allC = (X_train_dtm_allC, X_test_dtm_allC)\n",
    "\n",
    "# ------------------------------------------\n",
    "X_dtm_C = [X_dtm_1C, X_dtm_2C, X_dtm_3C, X_dtm_allC]"
   ]
  },
  {
   "cell_type": "code",
   "execution_count": 13,
   "metadata": {},
   "outputs": [],
   "source": [
    "unigram_featuresC = unigram_vectorizer.get_feature_names()\n",
    "bigram_featuresC = bigram_vectorizer.get_feature_names()\n",
    "trigram_featuresC = trigram_vectorizer.get_feature_names()"
   ]
  },
  {
   "cell_type": "code",
   "execution_count": 14,
   "metadata": {},
   "outputs": [
    {
     "data": {
      "image/png": "[encoded data removed]",
      "text/plain": [
       "<matplotlib.figure.Figure at 0x7f9f4ad86048>"
      ]
     },
     "metadata": {},
     "output_type": "display_data"
    }
   ],
   "source": [
    "plt.figure(figsize=[8,8])\n",
    "\n",
    "for i in X_dtm_C:\n",
    "    clf_lg = LogisticRegression().fit(i[0], y_train)\n",
    "    pred_proba_log = clf_lg.predict_proba(i[1])[:,1]\n",
    "    fpr, tpr, thresholds = metrics.roc_curve(y_test, pred_proba_log)\n",
    "    auc = round(metrics.roc_auc_score(y_test, pred_proba_log), 3)\n",
    "    plt.plot(fpr, tpr, label = \"AUC = \" + str(auc))\n",
    "\n",
    "\n",
    "plt.plot(np.arange(0, 1.1, 0.1), np.arange(0, 1.1, 0.1), linestyle = \"dashed\", color = \"orange\")\n",
    "\n",
    "plt.xlim([-0.1, 1.1])\n",
    "plt.ylim([-0.1, 1.1])\n",
    "#plt.title('ROC curve', fontsize = 18)\n",
    "plt.xlabel('False Positive Rate', fontsize = 18)\n",
    "plt.ylabel('True Positive Rate', fontsize = 18)\n",
    "plt.grid(True)\n",
    "\n",
    "plt.legend(fontsize = 16)\n",
    "#sns.despine(left=True, bottom= True)\n",
    "\n",
    "plt.savefig('roc_all_new.pdf', bbox_inches=\"tight\")\n",
    "\n",
    "plt.show()\n",
    "    "
   ]
  },
  {
   "cell_type": "markdown",
   "metadata": {},
   "source": [
    "## tf-idf vectorizer"
   ]
  },
  {
   "cell_type": "code",
   "execution_count": 15,
   "metadata": {},
   "outputs": [],
   "source": [
    "unigram_vectorizer = TfidfVectorizer(tokenizer=prep2) \n",
    "bigram_vectorizer =  TfidfVectorizer(ngram_range=(2,2), tokenizer=prep2) \n",
    "trigram_vectorizer = TfidfVectorizer(ngram_range=(3,3), tokenizer=prep2)\n",
    "\n",
    "X_train_dtm_1T = unigram_vectorizer.fit_transform(X_train) \n",
    "X_test_dtm_1T = unigram_vectorizer.transform(X_test)\n",
    "\n",
    "X_dtm_1T = (X_train_dtm_1T, X_test_dtm_1T)\n",
    "\n",
    "\n",
    "X_train_dtm_2T = bigram_vectorizer.fit_transform(X_train) \n",
    "X_test_dtm_2T = bigram_vectorizer.transform(X_test)\n",
    "\n",
    "X_dtm_2T = (X_train_dtm_2T, X_test_dtm_2T)\n",
    "\n",
    "\n",
    "X_train_dtm_3T = trigram_vectorizer.fit_transform(X_train) \n",
    "X_test_dtm_3T = trigram_vectorizer.transform(X_test)\n",
    "\n",
    "X_dtm_3T = (X_train_dtm_3T, X_test_dtm_3T)\n",
    "\n",
    "# -----------------------------------------------\n",
    "X_train_dtm_allT = sparse.hstack([X_train_dtm_1T, X_train_dtm_2T, X_train_dtm_3T])\n",
    "X_test_dtm_allT = sparse.hstack([X_test_dtm_1T, X_test_dtm_2T, X_test_dtm_3T])\n",
    "\n",
    "X_dtm_allT = (X_train_dtm_allT, X_test_dtm_allT)\n",
    "\n",
    "# ------------------------------------------\n",
    "\n",
    "X_dtm_T = [X_dtm_1T, X_dtm_2T, X_dtm_3T, X_dtm_allT]"
   ]
  },
  {
   "cell_type": "code",
   "execution_count": 16,
   "metadata": {},
   "outputs": [],
   "source": [
    "unigram_featuresT = unigram_vectorizer.get_feature_names()\n",
    "bigram_featuresT = bigram_vectorizer.get_feature_names()\n",
    "trigram_featuresT = trigram_vectorizer.get_feature_names()"
   ]
  },
  {
   "cell_type": "code",
   "execution_count": 17,
   "metadata": {},
   "outputs": [
    {
     "data": {
      "image/png": "[encoded data removed]",
      "text/plain": [
       "<matplotlib.figure.Figure at 0x7f9f4ad67080>"
      ]
     },
     "metadata": {},
     "output_type": "display_data"
    }
   ],
   "source": [
    "plt.figure(figsize=[8,8])\n",
    "\n",
    "for i in X_dtm_T:\n",
    "    clf_lg = LogisticRegression().fit(i[0], y_train)\n",
    "    pred_proba_log = clf_lg.predict_proba(i[1])[:,1]\n",
    "    fpr, tpr, thresholds = metrics.roc_curve(y_test, pred_proba_log)\n",
    "    auc = round(metrics.roc_auc_score(y_test, pred_proba_log), 3)\n",
    "    plt.plot(fpr, tpr, label = \"AUC = \" + str(auc))\n",
    "\n",
    "\n",
    "plt.plot(np.arange(0, 1.1, 0.1), np.arange(0, 1.1, 0.1), linestyle = \"dashed\", color = \"orange\")\n",
    "\n",
    "plt.xlim([-0.1, 1.1])\n",
    "plt.ylim([-0.1, 1.1])\n",
    "#plt.title('ROC curve', fontsize = 18)\n",
    "plt.xlabel('False Positive Rate', fontsize = 18)\n",
    "plt.ylabel('True Positive Rate', fontsize = 18)\n",
    "plt.grid(True)\n",
    "\n",
    "plt.legend(fontsize = 16)\n",
    "#sns.despine(left=True, bottom= True)\n",
    "\n",
    "plt.savefig('roc_all_new.pdf', bbox_inches=\"tight\")\n",
    "\n",
    "plt.show()\n",
    "    "
   ]
  },
  {
   "cell_type": "markdown",
   "metadata": {},
   "source": [
    "## Combined"
   ]
  },
  {
   "cell_type": "code",
   "execution_count": 18,
   "metadata": {},
   "outputs": [],
   "source": [
    "X_train_dtm_all = sparse.hstack([X_train_dtm_allT, X_train_dtm_allC])\n",
    "X_test_dtm_all = sparse.hstack([X_test_dtm_allT, X_test_dtm_allC])\n",
    "\n",
    "X_dtm_all = (X_train_dtm_all, X_test_dtm_all)\n",
    "\n",
    "X_dtm = [X_dtm_all]"
   ]
  },
  {
   "cell_type": "code",
   "execution_count": 19,
   "metadata": {},
   "outputs": [],
   "source": [
    "features_vector = unigram_featuresC + bigram_featuresC + trigram_featuresC +unigram_featuresT + bigram_featuresT + trigram_featuresT"
   ]
  },
  {
   "cell_type": "code",
   "execution_count": 20,
   "metadata": {},
   "outputs": [
    {
     "data": {
      "image/png": "[encoded data removed]",
      "text/plain": [
       "<matplotlib.figure.Figure at 0x7f9f4ad01198>"
      ]
     },
     "metadata": {},
     "output_type": "display_data"
    }
   ],
   "source": [
    "plt.figure(figsize=[8,8])\n",
    "\n",
    "for i in X_dtm:\n",
    "    clf_lg = LogisticRegression().fit(i[0], y_train)\n",
    "    pred_proba_log = clf_lg.predict_proba(i[1])[:,1]\n",
    "    fpr, tpr, thresholds = metrics.roc_curve(y_test, pred_proba_log)\n",
    "    auc = round(metrics.roc_auc_score(y_test, pred_proba_log), 3)\n",
    "    plt.plot(fpr, tpr, label = \"AUC = \" + str(auc))\n",
    "\n",
    "\n",
    "plt.plot(np.arange(0, 1.1, 0.1), np.arange(0, 1.1, 0.1), linestyle = \"dashed\", color = \"orange\")\n",
    "\n",
    "plt.xlim([-0.1, 1.1])\n",
    "plt.ylim([-0.1, 1.1])\n",
    "#plt.title('ROC curve', fontsize = 18)\n",
    "plt.xlabel('False Positive Rate', fontsize = 18)\n",
    "plt.ylabel('True Positive Rate', fontsize = 18)\n",
    "plt.grid(True)\n",
    "\n",
    "plt.legend(fontsize = 16)\n",
    "#sns.despine(left=True, bottom= True)\n",
    "\n",
    "plt.savefig('roc_all_new.pdf', bbox_inches=\"tight\")\n",
    "\n",
    "plt.show()\n",
    "    "
   ]
  },
  {
   "cell_type": "code",
   "execution_count": 21,
   "metadata": {},
   "outputs": [
    {
     "data": {
      "text/plain": [
       "(3263, 119450)"
      ]
     },
     "execution_count": 21,
     "metadata": {},
     "output_type": "execute_result"
    }
   ],
   "source": [
    "X_train_dtm_all.shape"
   ]
  },
  {
   "cell_type": "markdown",
   "metadata": {},
   "source": [
    "## Conclusion\n",
    "So for the BoW, if you should choose one, you should choose td-idf with 1,2,3 - grams \n",
    "men det kommer self også an på hvor lang tid sk feature selection tager?"
   ]
  },
  {
   "cell_type": "markdown",
   "metadata": {},
   "source": [
    "----\n",
    "# Number of !, ?, @, and # (and emojis?)"
   ]
  },
  {
   "cell_type": "code",
   "execution_count": 22,
   "metadata": {},
   "outputs": [],
   "source": [
    "def count_symb(X):\n",
    "    count_att = []\n",
    "    count_exclamation = []\n",
    "    count_question = []\n",
    "    count_hashtags = []\n",
    "\n",
    "    for i in X:\n",
    "        count_att.append(i.count(\"@\"))\n",
    "        count_exclamation.append(i.count(\"!\"))\n",
    "        count_question.append(i.count(\"?\"))\n",
    "        count_hashtags.append(i.count(\"#\"))\n",
    "\n",
    "    count_df = pd.DataFrame([count_att,count_exclamation,count_question,count_hashtags]).T\n",
    "    count_df.columns = {\"count_att\":0,\"count_exclamation\":1,\"count_question\":2,\"count_hashtags\":3}\n",
    "\n",
    "    return(sparse.csr_matrix(count_df))\n",
    "    "
   ]
  },
  {
   "cell_type": "code",
   "execution_count": 23,
   "metadata": {},
   "outputs": [],
   "source": [
    "count_features = [\"count_att\",\"count_exclamation\",\"count_question\",\"count_hashtags\"]\n",
    "features_vector = features_vector + count_features"
   ]
  },
  {
   "cell_type": "code",
   "execution_count": 24,
   "metadata": {},
   "outputs": [],
   "source": [
    "X_train_count_symb = count_symb(X_train)\n",
    "X_test_count_symb = count_symb(X_test)"
   ]
  },
  {
   "cell_type": "code",
   "execution_count": 25,
   "metadata": {},
   "outputs": [],
   "source": [
    "X_train_dtm_all_count = sparse.hstack([X_train_dtm_all, X_train_count_symb])\n",
    "X_test_dtm_all_count = sparse.hstack([X_test_dtm_all, X_test_count_symb])"
   ]
  },
  {
   "cell_type": "code",
   "execution_count": 26,
   "metadata": {},
   "outputs": [],
   "source": [
    "X_dtm_all_count = (X_train_dtm_all_count, X_test_dtm_all_count)\n",
    "X_dtm_count = [X_dtm_all_count]"
   ]
  },
  {
   "cell_type": "code",
   "execution_count": 27,
   "metadata": {},
   "outputs": [
    {
     "data": {
      "image/png": "[encoded data removed]",
      "text/plain": [
       "<matplotlib.figure.Figure at 0x7f9f4ad05518>"
      ]
     },
     "metadata": {},
     "output_type": "display_data"
    }
   ],
   "source": [
    "plt.figure(figsize=[8,8])\n",
    "\n",
    "for i in X_dtm_count:\n",
    "    clf_lg = LogisticRegression().fit(i[0], y_train)\n",
    "    pred_proba_log = clf_lg.predict_proba(i[1])[:,1]\n",
    "    fpr, tpr, thresholds = metrics.roc_curve(y_test, pred_proba_log)\n",
    "    auc = round(metrics.roc_auc_score(y_test, pred_proba_log), 3)\n",
    "    plt.plot(fpr, tpr, label = \"AUC = \" + str(auc))\n",
    "\n",
    "\n",
    "plt.plot(np.arange(0, 1.1, 0.1), np.arange(0, 1.1, 0.1), linestyle = \"dashed\", color = \"orange\")\n",
    "\n",
    "plt.xlim([-0.1, 1.1])\n",
    "plt.ylim([-0.1, 1.1])\n",
    "#plt.title('ROC curve', fontsize = 18)\n",
    "plt.xlabel('False Positive Rate', fontsize = 18)\n",
    "plt.ylabel('True Positive Rate', fontsize = 18)\n",
    "plt.grid(True)\n",
    "\n",
    "plt.legend(fontsize = 16)\n",
    "#sns.despine(left=True, bottom= True)\n",
    "\n",
    "plt.savefig('roc_all_new.pdf', bbox_inches=\"tight\")\n",
    "\n",
    "plt.show()\n",
    "    "
   ]
  },
  {
   "cell_type": "markdown",
   "metadata": {},
   "source": [
    "# Features from word2vec"
   ]
  },
  {
   "cell_type": "markdown",
   "metadata": {},
   "source": [
    "## Make the word2vec model"
   ]
  },
  {
   "cell_type": "code",
   "execution_count": 28,
   "metadata": {},
   "outputs": [
    {
     "name": "stderr",
     "output_type": "stream",
     "text": [
      "/home/polichinel/anaconda3/lib/python3.6/site-packages/IPython/core/interactiveshell.py:2698: DtypeWarning: Columns (0,1,4,7,12) have mixed types. Specify dtype option on import or set low_memory=False.\n",
      "  interactivity=interactivity, compiler=compiler, result=result)\n"
     ]
    }
   ],
   "source": [
    "df_unlabled_big = pd.read_csv(\"/media/polichinel/DATA/backup/PDS_DATA/new_many_tweets.csv\", index_col= 0)\n",
    "df_unlabled = pd.read_csv(\"all_unlabled_tweets.csv\", index_col= 0)\n",
    "df_labled = pd.read_csv(\"labled_tweets.csv\", index_col= 0)\n",
    "\n",
    "pkl_file = open('full_remove.pkl', 'rb') # from feature set.\n",
    "full_remove = pickle.load(pkl_file)\n",
    "pkl_file.close()"
   ]
  },
  {
   "cell_type": "code",
   "execution_count": 29,
   "metadata": {},
   "outputs": [],
   "source": [
    "# should be enough - check before deleting the direct implimentation\n",
    "\n",
    "pkl_file = open('prep2.pkl', 'rb') # from feature set.\n",
    "prep2 = pickle.load(pkl_file)\n",
    "pkl_file.close()"
   ]
  },
  {
   "cell_type": "code",
   "execution_count": 30,
   "metadata": {},
   "outputs": [],
   "source": [
    "def check_model(model, most_sim = \"president\"):\n",
    "    print(\"Most similar to {}:\\n\".format(most_sim))\n",
    "    for i in model.wv.most_similar(most_sim):\n",
    "        print(i)\n",
    "\n",
    "    print(\"\\n\")\n",
    "    # get the Most common words\n",
    "    print(\"Most common words:\")\n",
    "    print(model.wv.index2word[0], model.wv.index2word[1], model.wv.index2word[2])\n",
    "\n",
    "    print(\"\\n\")\n",
    "    # get the least common words\n",
    "    vocab_size = len(model.wv.vocab)\n",
    "    print(\"Least common words:\")\n",
    "    print(model.wv.index2word[vocab_size - 1], model.wv.index2word[vocab_size - 2], model.wv.index2word[vocab_size - 3])\n",
    "\n",
    "    print(\"\\n\")\n",
    "    # some similarity fun\n",
    "    print(\"Sanity sim check1:\")\n",
    "    print(model.wv.similarity('woman', 'man'), model.wv.similarity('woman', 'thing'))\n",
    "\n",
    "    print(\"\\n\")\n",
    "    print(\"Sanity sim check2:\")\n",
    "    # what doesn't fit?\n",
    "    print(model.wv.doesnt_match(\"green blue red man\".split()))"
   ]
  },
  {
   "cell_type": "code",
   "execution_count": 31,
   "metadata": {},
   "outputs": [],
   "source": [
    "path = \"/media/polichinel/DATA/backup/PDS_DATA/\""
   ]
  },
  {
   "cell_type": "code",
   "execution_count": 32,
   "metadata": {},
   "outputs": [],
   "source": [
    "spec_path = path + \"hot_comments_politics.pkl\"\n",
    "\n",
    "\n",
    "pkl_file = open(spec_path, 'rb') # from feature set.\n",
    "comments1 = pickle.load(pkl_file)\n",
    "pkl_file.close()"
   ]
  },
  {
   "cell_type": "code",
   "execution_count": 33,
   "metadata": {},
   "outputs": [],
   "source": [
    "spec_path = path + \"controversial_comments_politics.pkl\"\n",
    "\n",
    "pkl_file = open(spec_path, 'rb') # from feature set.\n",
    "comments2 = pickle.load(pkl_file)\n",
    "pkl_file.close()"
   ]
  },
  {
   "cell_type": "code",
   "execution_count": 34,
   "metadata": {},
   "outputs": [],
   "source": [
    "spec_path = path + \"hot_comments_news.pkl\"\n",
    "\n",
    "pkl_file = open(spec_path, 'rb') # from feature set.\n",
    "comments3 = pickle.load(pkl_file)\n",
    "pkl_file.close()"
   ]
  },
  {
   "cell_type": "code",
   "execution_count": 35,
   "metadata": {},
   "outputs": [],
   "source": [
    "spec_path = path + \"controversial_comments_news.pkl\"\n",
    "\n",
    "pkl_file = open(spec_path, 'rb') # from feature set.\n",
    "comments4 = pickle.load(pkl_file)\n",
    "pkl_file.close()"
   ]
  },
  {
   "cell_type": "code",
   "execution_count": 36,
   "metadata": {},
   "outputs": [],
   "source": [
    "spec_path = path + \"top_comments_politics.pkl\"\n",
    "\n",
    "\n",
    "pkl_file = open(spec_path, 'rb') # from feature set.\n",
    "comments5 = pickle.load(pkl_file)\n",
    "pkl_file.close()\n"
   ]
  },
  {
   "cell_type": "code",
   "execution_count": 37,
   "metadata": {},
   "outputs": [],
   "source": [
    "spec_path = path + \"top_comments_news.pkl\"\n",
    "\n",
    "\n",
    "pkl_file = open(spec_path, 'rb') # from feature set.\n",
    "comments6 = pickle.load(pkl_file)\n",
    "pkl_file.close()"
   ]
  },
  {
   "cell_type": "code",
   "execution_count": 38,
   "metadata": {},
   "outputs": [],
   "source": [
    "comments_all = comments1 + comments2 + comments3 + comments4 + comments5 + comments6\n",
    "all_text = comments_all + list(df_unlabled_big.text) + list(df_unlabled.text)"
   ]
  },
  {
   "cell_type": "code",
   "execution_count": 39,
   "metadata": {},
   "outputs": [
    {
     "data": {
      "text/plain": [
       "1947563"
      ]
     },
     "execution_count": 39,
     "metadata": {},
     "output_type": "execute_result"
    }
   ],
   "source": [
    "len(all_text)"
   ]
  },
  {
   "cell_type": "code",
   "execution_count": 40,
   "metadata": {},
   "outputs": [
    {
     "data": {
      "text/plain": [
       "30339"
      ]
     },
     "execution_count": 40,
     "metadata": {},
     "output_type": "execute_result"
    }
   ],
   "source": [
    "# this time we set a bit more options:\n",
    "\n",
    "# Set values for various parameters\n",
    "feature_size = 300    # Word vector dimensionality  \n",
    "window_context = 30          # Context window size                                                                                    \n",
    "min_word_count = 10   # Minimum word count                        \n",
    "sample = 1e-3   # Downsample setting for frequent words\n",
    "\n",
    "\n",
    "# tweets are back from 140 character limit; not 240!\n",
    "sentences = [prep2(sent) for sent in nltk.sent_tokenize(pd.Series(all_text).to_string())]\n",
    "model = gensim.models.Word2Vec(sentences, size=feature_size, window=window_context, min_count=min_word_count, sample=sample, iter=50)\n",
    "                               \n",
    "len(list(model.wv.vocab.keys())) # Men, med min_count = 10 har du kun 1650 obs... Flere tweets mere text."
   ]
  },
  {
   "cell_type": "code",
   "execution_count": 41,
   "metadata": {},
   "outputs": [
    {
     "name": "stdout",
     "output_type": "stream",
     "text": [
      "Most similar to president:\n",
      "\n",
      "('pres', 0.5604985952377319)\n",
      "('administration', 0.5250197052955627)\n",
      "('presi', 0.44312191009521484)\n",
      "('potus', 0.4355844557285309)\n",
      "('admin', 0.4201052784919739)\n",
      "('trump', 0.4143386781215668)\n",
      "('donald', 0.4111642837524414)\n",
      "('realdonaldtrump', 0.32334235310554504)\n",
      "('appointee', 0.32304877042770386)\n",
      "('obama', 0.31245604157447815)\n",
      "\n",
      "\n",
      "Most common words:\n",
      "that you this\n",
      "\n",
      "\n",
      "Least common words:\n",
      "peterwsj bkesling usafmatthew\n",
      "\n",
      "\n",
      "Sanity sim check1:\n",
      "0.08044655596077459 -0.0645665534312646\n",
      "\n",
      "\n",
      "Sanity sim check2:\n",
      "man\n"
     ]
    }
   ],
   "source": [
    "check_model(model, \"president\")"
   ]
  },
  {
   "cell_type": "code",
   "execution_count": 42,
   "metadata": {},
   "outputs": [],
   "source": [
    "output = open('word2vec_model.pkl', 'wb')\n",
    "pickle.dump(model, output)\n",
    "output.close()"
   ]
  },
  {
   "cell_type": "markdown",
   "metadata": {},
   "source": [
    "## Making the features"
   ]
  },
  {
   "cell_type": "markdown",
   "metadata": {},
   "source": [
    "### First try (not working)"
   ]
  },
  {
   "cell_type": "code",
   "execution_count": 43,
   "metadata": {},
   "outputs": [],
   "source": [
    "# get your model\n",
    "\n",
    "pkl_file = open('word2vec_model.pkl', 'rb') # from feature set.\n",
    "#pkl_file = open('word2vec_small_model.pkl', 'rb') # from feature set.\n",
    "\n",
    "word2vec_model = pickle.load(pkl_file)\n",
    "pkl_file.close()"
   ]
  },
  {
   "cell_type": "code",
   "execution_count": 107,
   "metadata": {},
   "outputs": [],
   "source": [
    "n_features = word2vec_model.wv.word_vec(\"potus\").shape[0]"
   ]
  },
  {
   "cell_type": "code",
   "execution_count": 108,
   "metadata": {},
   "outputs": [],
   "source": [
    "w2v_train_df = pd.DataFrame(np.zeros([len(X_train),n_features]))\n",
    "vectors = np.zeros(n_features)\n",
    "dividend = 0\n",
    "\n",
    "for i in range(len(X_train)):\n",
    "    strings = X_train.iloc[i].split()\n",
    "    for j in range(len(strings)):\n",
    "        word = prep2(strings[j].lower())\n",
    "        if len(word) > 0:\n",
    "            clean_word = re.sub(r'[^\\w\\s]','',word[0])\n",
    "            #print(clean_word, \"\\n\")\n",
    "            #print(word2vec_model.wv.word_vec(clean_word))\n",
    "            if clean_word in list(word2vec_model.wv.vocab):\n",
    "                dividend += 1\n",
    "                vectors += word2vec_model.wv.word_vec(clean_word)\n",
    "        \n",
    "    mean_vector = vectors/dividend\n",
    "    w2v_train_df.iloc[i] = mean_vector"
   ]
  },
  {
   "cell_type": "code",
   "execution_count": 111,
   "metadata": {},
   "outputs": [
    {
     "data": {
      "text/html": [
       "<div>\n",
       "<style scoped>\n",
       "    .dataframe tbody tr th:only-of-type {\n",
       "        vertical-align: middle;\n",
       "    }\n",
       "\n",
       "    .dataframe tbody tr th {\n",
       "        vertical-align: top;\n",
       "    }\n",
       "\n",
       "    .dataframe thead th {\n",
       "        text-align: right;\n",
       "    }\n",
       "</style>\n",
       "<table border=\"1\" class=\"dataframe\">\n",
       "  <thead>\n",
       "    <tr style=\"text-align: right;\">\n",
       "      <th></th>\n",
       "      <th>0</th>\n",
       "      <th>1</th>\n",
       "      <th>2</th>\n",
       "      <th>3</th>\n",
       "      <th>4</th>\n",
       "      <th>5</th>\n",
       "      <th>6</th>\n",
       "      <th>7</th>\n",
       "      <th>8</th>\n",
       "      <th>9</th>\n",
       "      <th>...</th>\n",
       "      <th>290</th>\n",
       "      <th>291</th>\n",
       "      <th>292</th>\n",
       "      <th>293</th>\n",
       "      <th>294</th>\n",
       "      <th>295</th>\n",
       "      <th>296</th>\n",
       "      <th>297</th>\n",
       "      <th>298</th>\n",
       "      <th>299</th>\n",
       "    </tr>\n",
       "  </thead>\n",
       "  <tbody>\n",
       "    <tr>\n",
       "      <th>0</th>\n",
       "      <td>-0.054399</td>\n",
       "      <td>-0.898926</td>\n",
       "      <td>0.366477</td>\n",
       "      <td>1.474878</td>\n",
       "      <td>-0.900951</td>\n",
       "      <td>0.215470</td>\n",
       "      <td>-0.427083</td>\n",
       "      <td>-0.019338</td>\n",
       "      <td>-0.308580</td>\n",
       "      <td>0.112684</td>\n",
       "      <td>...</td>\n",
       "      <td>-0.317979</td>\n",
       "      <td>-0.765928</td>\n",
       "      <td>-0.230627</td>\n",
       "      <td>-0.928105</td>\n",
       "      <td>0.258100</td>\n",
       "      <td>0.850678</td>\n",
       "      <td>-1.073145</td>\n",
       "      <td>-0.380913</td>\n",
       "      <td>-1.238278</td>\n",
       "      <td>-0.703060</td>\n",
       "    </tr>\n",
       "    <tr>\n",
       "      <th>1</th>\n",
       "      <td>-0.118097</td>\n",
       "      <td>-0.517376</td>\n",
       "      <td>0.418401</td>\n",
       "      <td>1.599083</td>\n",
       "      <td>-0.414631</td>\n",
       "      <td>-0.044689</td>\n",
       "      <td>-0.132942</td>\n",
       "      <td>-0.515248</td>\n",
       "      <td>-0.316393</td>\n",
       "      <td>0.141132</td>\n",
       "      <td>...</td>\n",
       "      <td>-0.376936</td>\n",
       "      <td>-0.679211</td>\n",
       "      <td>-0.223088</td>\n",
       "      <td>-0.584346</td>\n",
       "      <td>0.331547</td>\n",
       "      <td>0.438669</td>\n",
       "      <td>-1.001409</td>\n",
       "      <td>0.152299</td>\n",
       "      <td>-1.411715</td>\n",
       "      <td>-0.419760</td>\n",
       "    </tr>\n",
       "    <tr>\n",
       "      <th>2</th>\n",
       "      <td>-0.266468</td>\n",
       "      <td>0.175031</td>\n",
       "      <td>0.142671</td>\n",
       "      <td>0.542173</td>\n",
       "      <td>-0.055883</td>\n",
       "      <td>-0.009757</td>\n",
       "      <td>0.068094</td>\n",
       "      <td>-0.315659</td>\n",
       "      <td>-0.945029</td>\n",
       "      <td>0.079980</td>\n",
       "      <td>...</td>\n",
       "      <td>-0.089468</td>\n",
       "      <td>-0.316280</td>\n",
       "      <td>-0.621526</td>\n",
       "      <td>-0.365829</td>\n",
       "      <td>0.406753</td>\n",
       "      <td>0.450030</td>\n",
       "      <td>0.040060</td>\n",
       "      <td>0.359943</td>\n",
       "      <td>-1.052686</td>\n",
       "      <td>0.006169</td>\n",
       "    </tr>\n",
       "    <tr>\n",
       "      <th>3</th>\n",
       "      <td>-0.384984</td>\n",
       "      <td>0.086131</td>\n",
       "      <td>-0.053504</td>\n",
       "      <td>0.472877</td>\n",
       "      <td>-0.049518</td>\n",
       "      <td>0.065902</td>\n",
       "      <td>0.072099</td>\n",
       "      <td>-0.481808</td>\n",
       "      <td>-0.933006</td>\n",
       "      <td>0.165997</td>\n",
       "      <td>...</td>\n",
       "      <td>-0.102197</td>\n",
       "      <td>-0.308860</td>\n",
       "      <td>-0.626188</td>\n",
       "      <td>-0.543091</td>\n",
       "      <td>0.435718</td>\n",
       "      <td>0.335343</td>\n",
       "      <td>-0.193805</td>\n",
       "      <td>0.318428</td>\n",
       "      <td>-0.961121</td>\n",
       "      <td>-0.091430</td>\n",
       "    </tr>\n",
       "    <tr>\n",
       "      <th>4</th>\n",
       "      <td>-0.376066</td>\n",
       "      <td>-0.056726</td>\n",
       "      <td>-0.232528</td>\n",
       "      <td>0.522390</td>\n",
       "      <td>0.077525</td>\n",
       "      <td>0.040446</td>\n",
       "      <td>0.052248</td>\n",
       "      <td>-0.617200</td>\n",
       "      <td>-1.000260</td>\n",
       "      <td>0.292429</td>\n",
       "      <td>...</td>\n",
       "      <td>0.151570</td>\n",
       "      <td>-0.258384</td>\n",
       "      <td>-0.620569</td>\n",
       "      <td>-0.304264</td>\n",
       "      <td>-0.238428</td>\n",
       "      <td>0.544539</td>\n",
       "      <td>-0.105061</td>\n",
       "      <td>0.154807</td>\n",
       "      <td>-0.783021</td>\n",
       "      <td>-0.083971</td>\n",
       "    </tr>\n",
       "  </tbody>\n",
       "</table>\n",
       "<p>5 rows × 300 columns</p>\n",
       "</div>"
      ],
      "text/plain": [
       "        0         1         2         3         4         5         6    \\\n",
       "0 -0.054399 -0.898926  0.366477  1.474878 -0.900951  0.215470 -0.427083   \n",
       "1 -0.118097 -0.517376  0.418401  1.599083 -0.414631 -0.044689 -0.132942   \n",
       "2 -0.266468  0.175031  0.142671  0.542173 -0.055883 -0.009757  0.068094   \n",
       "3 -0.384984  0.086131 -0.053504  0.472877 -0.049518  0.065902  0.072099   \n",
       "4 -0.376066 -0.056726 -0.232528  0.522390  0.077525  0.040446  0.052248   \n",
       "\n",
       "        7         8         9      ...          290       291       292  \\\n",
       "0 -0.019338 -0.308580  0.112684    ...    -0.317979 -0.765928 -0.230627   \n",
       "1 -0.515248 -0.316393  0.141132    ...    -0.376936 -0.679211 -0.223088   \n",
       "2 -0.315659 -0.945029  0.079980    ...    -0.089468 -0.316280 -0.621526   \n",
       "3 -0.481808 -0.933006  0.165997    ...    -0.102197 -0.308860 -0.626188   \n",
       "4 -0.617200 -1.000260  0.292429    ...     0.151570 -0.258384 -0.620569   \n",
       "\n",
       "        293       294       295       296       297       298       299  \n",
       "0 -0.928105  0.258100  0.850678 -1.073145 -0.380913 -1.238278 -0.703060  \n",
       "1 -0.584346  0.331547  0.438669 -1.001409  0.152299 -1.411715 -0.419760  \n",
       "2 -0.365829  0.406753  0.450030  0.040060  0.359943 -1.052686  0.006169  \n",
       "3 -0.543091  0.435718  0.335343 -0.193805  0.318428 -0.961121 -0.091430  \n",
       "4 -0.304264 -0.238428  0.544539 -0.105061  0.154807 -0.783021 -0.083971  \n",
       "\n",
       "[5 rows x 300 columns]"
      ]
     },
     "execution_count": 111,
     "metadata": {},
     "output_type": "execute_result"
    }
   ],
   "source": [
    "w2v_train_df.head()"
   ]
  },
  {
   "cell_type": "code",
   "execution_count": 109,
   "metadata": {},
   "outputs": [],
   "source": [
    "w2v_test_df = pd.DataFrame(np.zeros([len(X_test),n_features]))\n",
    "vectors = np.zeros(n_features)\n",
    "dividend = 0\n",
    "\n",
    "for i in range(len(X_test)):\n",
    "    strings = X_test.iloc[i].split()\n",
    "    for j in range(len(strings)):\n",
    "        word = prep2(strings[j].lower())\n",
    "        if len(word) > 0:\n",
    "            clean_word = re.sub(r'[^\\w\\s]','',word[0])\n",
    "            #print(clean_word, \"\\n\")\n",
    "            #print(word2vec_model.wv.word_vec(clean_word))\n",
    "            if clean_word in list(word2vec_model.wv.vocab):\n",
    "                dividend += 1\n",
    "                vectors += word2vec_model.wv.word_vec(clean_word)\n",
    "        \n",
    "    mean_vector = vectors/dividend\n",
    "    w2v_test_df.iloc[i] = mean_vector"
   ]
  },
  {
   "cell_type": "code",
   "execution_count": 110,
   "metadata": {},
   "outputs": [
    {
     "data": {
      "text/html": [
       "<div>\n",
       "<style scoped>\n",
       "    .dataframe tbody tr th:only-of-type {\n",
       "        vertical-align: middle;\n",
       "    }\n",
       "\n",
       "    .dataframe tbody tr th {\n",
       "        vertical-align: top;\n",
       "    }\n",
       "\n",
       "    .dataframe thead th {\n",
       "        text-align: right;\n",
       "    }\n",
       "</style>\n",
       "<table border=\"1\" class=\"dataframe\">\n",
       "  <thead>\n",
       "    <tr style=\"text-align: right;\">\n",
       "      <th></th>\n",
       "      <th>0</th>\n",
       "      <th>1</th>\n",
       "      <th>2</th>\n",
       "      <th>3</th>\n",
       "      <th>4</th>\n",
       "      <th>5</th>\n",
       "      <th>6</th>\n",
       "      <th>7</th>\n",
       "      <th>8</th>\n",
       "      <th>9</th>\n",
       "      <th>...</th>\n",
       "      <th>290</th>\n",
       "      <th>291</th>\n",
       "      <th>292</th>\n",
       "      <th>293</th>\n",
       "      <th>294</th>\n",
       "      <th>295</th>\n",
       "      <th>296</th>\n",
       "      <th>297</th>\n",
       "      <th>298</th>\n",
       "      <th>299</th>\n",
       "    </tr>\n",
       "  </thead>\n",
       "  <tbody>\n",
       "    <tr>\n",
       "      <th>0</th>\n",
       "      <td>-0.129012</td>\n",
       "      <td>-0.126241</td>\n",
       "      <td>0.185017</td>\n",
       "      <td>-0.299243</td>\n",
       "      <td>0.190867</td>\n",
       "      <td>0.649260</td>\n",
       "      <td>0.943147</td>\n",
       "      <td>0.298890</td>\n",
       "      <td>0.164166</td>\n",
       "      <td>0.768667</td>\n",
       "      <td>...</td>\n",
       "      <td>0.385067</td>\n",
       "      <td>0.758326</td>\n",
       "      <td>-0.739136</td>\n",
       "      <td>-0.519583</td>\n",
       "      <td>0.978376</td>\n",
       "      <td>0.913047</td>\n",
       "      <td>-0.336684</td>\n",
       "      <td>-0.781262</td>\n",
       "      <td>-0.403395</td>\n",
       "      <td>-0.097971</td>\n",
       "    </tr>\n",
       "    <tr>\n",
       "      <th>1</th>\n",
       "      <td>-0.407616</td>\n",
       "      <td>-0.152013</td>\n",
       "      <td>0.483244</td>\n",
       "      <td>-0.812976</td>\n",
       "      <td>0.216882</td>\n",
       "      <td>0.349498</td>\n",
       "      <td>0.868853</td>\n",
       "      <td>0.474934</td>\n",
       "      <td>0.310708</td>\n",
       "      <td>0.527099</td>\n",
       "      <td>...</td>\n",
       "      <td>0.312568</td>\n",
       "      <td>1.144058</td>\n",
       "      <td>-0.606680</td>\n",
       "      <td>-0.449201</td>\n",
       "      <td>0.784710</td>\n",
       "      <td>0.983268</td>\n",
       "      <td>-0.073827</td>\n",
       "      <td>-0.847251</td>\n",
       "      <td>-0.342786</td>\n",
       "      <td>-0.429889</td>\n",
       "    </tr>\n",
       "    <tr>\n",
       "      <th>2</th>\n",
       "      <td>-0.502167</td>\n",
       "      <td>0.017439</td>\n",
       "      <td>-0.426210</td>\n",
       "      <td>-0.764616</td>\n",
       "      <td>0.342228</td>\n",
       "      <td>0.201179</td>\n",
       "      <td>0.352663</td>\n",
       "      <td>0.418677</td>\n",
       "      <td>0.070173</td>\n",
       "      <td>-0.021412</td>\n",
       "      <td>...</td>\n",
       "      <td>0.442439</td>\n",
       "      <td>0.706595</td>\n",
       "      <td>-0.686985</td>\n",
       "      <td>-0.538560</td>\n",
       "      <td>0.397683</td>\n",
       "      <td>0.790759</td>\n",
       "      <td>-0.205856</td>\n",
       "      <td>-0.214272</td>\n",
       "      <td>-0.156618</td>\n",
       "      <td>-0.264870</td>\n",
       "    </tr>\n",
       "    <tr>\n",
       "      <th>3</th>\n",
       "      <td>-0.487762</td>\n",
       "      <td>-0.029774</td>\n",
       "      <td>-0.064618</td>\n",
       "      <td>-0.498689</td>\n",
       "      <td>0.244093</td>\n",
       "      <td>0.081686</td>\n",
       "      <td>0.120687</td>\n",
       "      <td>0.252304</td>\n",
       "      <td>-0.259543</td>\n",
       "      <td>-0.116100</td>\n",
       "      <td>...</td>\n",
       "      <td>0.473880</td>\n",
       "      <td>0.472537</td>\n",
       "      <td>-0.448047</td>\n",
       "      <td>-0.376795</td>\n",
       "      <td>0.504689</td>\n",
       "      <td>0.683972</td>\n",
       "      <td>-0.129912</td>\n",
       "      <td>-0.097575</td>\n",
       "      <td>-0.126640</td>\n",
       "      <td>-0.490386</td>\n",
       "    </tr>\n",
       "    <tr>\n",
       "      <th>4</th>\n",
       "      <td>-0.551309</td>\n",
       "      <td>-0.214633</td>\n",
       "      <td>-0.137186</td>\n",
       "      <td>-0.408829</td>\n",
       "      <td>0.197125</td>\n",
       "      <td>0.024706</td>\n",
       "      <td>0.064108</td>\n",
       "      <td>0.286156</td>\n",
       "      <td>0.044353</td>\n",
       "      <td>-0.061299</td>\n",
       "      <td>...</td>\n",
       "      <td>0.348141</td>\n",
       "      <td>0.430672</td>\n",
       "      <td>-0.383804</td>\n",
       "      <td>-0.138204</td>\n",
       "      <td>0.479966</td>\n",
       "      <td>0.514904</td>\n",
       "      <td>0.053981</td>\n",
       "      <td>-0.319977</td>\n",
       "      <td>-0.205298</td>\n",
       "      <td>-0.438004</td>\n",
       "    </tr>\n",
       "  </tbody>\n",
       "</table>\n",
       "<p>5 rows × 300 columns</p>\n",
       "</div>"
      ],
      "text/plain": [
       "        0         1         2         3         4         5         6    \\\n",
       "0 -0.129012 -0.126241  0.185017 -0.299243  0.190867  0.649260  0.943147   \n",
       "1 -0.407616 -0.152013  0.483244 -0.812976  0.216882  0.349498  0.868853   \n",
       "2 -0.502167  0.017439 -0.426210 -0.764616  0.342228  0.201179  0.352663   \n",
       "3 -0.487762 -0.029774 -0.064618 -0.498689  0.244093  0.081686  0.120687   \n",
       "4 -0.551309 -0.214633 -0.137186 -0.408829  0.197125  0.024706  0.064108   \n",
       "\n",
       "        7         8         9      ...          290       291       292  \\\n",
       "0  0.298890  0.164166  0.768667    ...     0.385067  0.758326 -0.739136   \n",
       "1  0.474934  0.310708  0.527099    ...     0.312568  1.144058 -0.606680   \n",
       "2  0.418677  0.070173 -0.021412    ...     0.442439  0.706595 -0.686985   \n",
       "3  0.252304 -0.259543 -0.116100    ...     0.473880  0.472537 -0.448047   \n",
       "4  0.286156  0.044353 -0.061299    ...     0.348141  0.430672 -0.383804   \n",
       "\n",
       "        293       294       295       296       297       298       299  \n",
       "0 -0.519583  0.978376  0.913047 -0.336684 -0.781262 -0.403395 -0.097971  \n",
       "1 -0.449201  0.784710  0.983268 -0.073827 -0.847251 -0.342786 -0.429889  \n",
       "2 -0.538560  0.397683  0.790759 -0.205856 -0.214272 -0.156618 -0.264870  \n",
       "3 -0.376795  0.504689  0.683972 -0.129912 -0.097575 -0.126640 -0.490386  \n",
       "4 -0.138204  0.479966  0.514904  0.053981 -0.319977 -0.205298 -0.438004  \n",
       "\n",
       "[5 rows x 300 columns]"
      ]
     },
     "execution_count": 110,
     "metadata": {},
     "output_type": "execute_result"
    }
   ],
   "source": [
    "w2v_test_df.head()"
   ]
  },
  {
   "cell_type": "code",
   "execution_count": 47,
   "metadata": {},
   "outputs": [],
   "source": [
    "# Stupid framework you have created:\n",
    "X_w2v = (w2v_train_df, w2v_test_df)\n",
    "X_w2v_list = [X_w2v]"
   ]
  },
  {
   "cell_type": "code",
   "execution_count": 48,
   "metadata": {},
   "outputs": [
    {
     "data": {
      "image/png": "[encoded data removed]",
      "text/plain": [
       "<matplotlib.figure.Figure at 0x7f9f0bbf2278>"
      ]
     },
     "metadata": {},
     "output_type": "display_data"
    }
   ],
   "source": [
    "plt.figure(figsize=[8,8])\n",
    "\n",
    "for i in X_w2v_list:\n",
    "    clf_lg = LogisticRegression().fit(i[0], y_train)\n",
    "    pred_proba_log = clf_lg.predict_proba(i[1])[:,1]\n",
    "    fpr, tpr, thresholds = metrics.roc_curve(y_test, pred_proba_log)\n",
    "    auc = round(metrics.roc_auc_score(y_test, pred_proba_log), 3)\n",
    "    plt.plot(fpr, tpr, label = \"AUC = \" + str(auc))\n",
    "\n",
    "\n",
    "plt.plot(np.arange(0, 1.1, 0.1), np.arange(0, 1.1, 0.1), linestyle = \"dashed\", color = \"orange\")\n",
    "\n",
    "plt.xlim([-0.1, 1.1])\n",
    "plt.ylim([-0.1, 1.1])\n",
    "#plt.title('ROC curve', fontsize = 18)\n",
    "plt.xlabel('False Positive Rate', fontsize = 18)\n",
    "plt.ylabel('True Positive Rate', fontsize = 18)\n",
    "plt.grid(True)\n",
    "\n",
    "plt.legend(fontsize = 16)\n",
    "#sns.despine(left=True, bottom= True)\n",
    "\n",
    "plt.savefig('roc_all_new.pdf', bbox_inches=\"tight\")\n",
    "\n",
    "plt.show()\n",
    "    "
   ]
  },
  {
   "cell_type": "markdown",
   "metadata": {},
   "source": [
    "Well. Still not imprassing"
   ]
  },
  {
   "cell_type": "markdown",
   "metadata": {},
   "source": [
    "# Second try (Working!)"
   ]
  },
  {
   "cell_type": "code",
   "execution_count": 128,
   "metadata": {},
   "outputs": [],
   "source": [
    "from scipy import spatial\n",
    "\n",
    "index2word_set = set(word2vec_model.wv.index2word)\n",
    "\n",
    "def avg_feature_vector(sentence, model, num_features, index2word_set):\n",
    "    words = sentence.split()\n",
    "    feature_vec = np.zeros((num_features, ), dtype='float32')\n",
    "    n_words = 0\n",
    "    for word in words:\n",
    "        if word in index2word_set:\n",
    "            n_words += 1\n",
    "            feature_vec = np.add(feature_vec, model[word])\n",
    "    if (n_words > 0):\n",
    "        feature_vec = np.divide(feature_vec, n_words)\n",
    "    return(feature_vec)\n",
    "\n"
   ]
  },
  {
   "cell_type": "code",
   "execution_count": 129,
   "metadata": {},
   "outputs": [
    {
     "name": "stdout",
     "output_type": "stream",
     "text": [
      "0.9136499762535095\n"
     ]
    },
    {
     "name": "stderr",
     "output_type": "stream",
     "text": [
      "/home/polichinel/anaconda3/lib/python3.6/site-packages/ipykernel_launcher.py:12: DeprecationWarning: Call to deprecated `__getitem__` (Method will be removed in 4.0.0, use self.wv.__getitem__() instead).\n",
      "  if sys.path[0] == '':\n"
     ]
    }
   ],
   "source": [
    "# test\n",
    "s1_afv = avg_feature_vector('this is a sentence', model=word2vec_model, num_features=n_features, index2word_set=index2word_set)\n",
    "s2_afv = avg_feature_vector('this is also sentence', model=word2vec_model, num_features=n_features, index2word_set=index2word_set)\n",
    "sim = 1 - spatial.distance.cosine(s1_afv, s2_afv)\n",
    "print(sim)"
   ]
  },
  {
   "cell_type": "code",
   "execution_count": 130,
   "metadata": {},
   "outputs": [
    {
     "name": "stderr",
     "output_type": "stream",
     "text": [
      "/home/polichinel/anaconda3/lib/python3.6/site-packages/ipykernel_launcher.py:12: DeprecationWarning: Call to deprecated `__getitem__` (Method will be removed in 4.0.0, use self.wv.__getitem__() instead).\n",
      "  if sys.path[0] == '':\n"
     ]
    }
   ],
   "source": [
    "w2v_train_df_new = pd.DataFrame(np.zeros([len(X_train),n_features]))\n",
    "vectors = np.zeros(n_features)\n",
    "dividend = 0\n",
    "\n",
    "\n",
    "for i in range(len(X_train)):\n",
    "    test_sent_list = []\n",
    "    strings = X_train.iloc[i].split()\n",
    "    for j in range(len(strings)):\n",
    "        word = prep2(strings[j].lower())\n",
    "        if len(word) > 0:\n",
    "            clean_word = re.sub(r'[^\\w\\s]','',word[0])\n",
    "            test_sent_list.append(clean_word)\n",
    "            test_sent = \" \".join(test_sent_list)\n",
    "            \n",
    "            w2v_train_df_new.iloc[i] = avg_feature_vector(test_sent, model=word2vec_model, num_features=n_features, index2word_set=index2word_set)"
   ]
  },
  {
   "cell_type": "code",
   "execution_count": 131,
   "metadata": {},
   "outputs": [
    {
     "data": {
      "text/html": [
       "<div>\n",
       "<style scoped>\n",
       "    .dataframe tbody tr th:only-of-type {\n",
       "        vertical-align: middle;\n",
       "    }\n",
       "\n",
       "    .dataframe tbody tr th {\n",
       "        vertical-align: top;\n",
       "    }\n",
       "\n",
       "    .dataframe thead th {\n",
       "        text-align: right;\n",
       "    }\n",
       "</style>\n",
       "<table border=\"1\" class=\"dataframe\">\n",
       "  <thead>\n",
       "    <tr style=\"text-align: right;\">\n",
       "      <th></th>\n",
       "      <th>0</th>\n",
       "      <th>1</th>\n",
       "      <th>2</th>\n",
       "      <th>3</th>\n",
       "      <th>4</th>\n",
       "      <th>5</th>\n",
       "      <th>6</th>\n",
       "      <th>7</th>\n",
       "      <th>8</th>\n",
       "      <th>9</th>\n",
       "      <th>...</th>\n",
       "      <th>290</th>\n",
       "      <th>291</th>\n",
       "      <th>292</th>\n",
       "      <th>293</th>\n",
       "      <th>294</th>\n",
       "      <th>295</th>\n",
       "      <th>296</th>\n",
       "      <th>297</th>\n",
       "      <th>298</th>\n",
       "      <th>299</th>\n",
       "    </tr>\n",
       "  </thead>\n",
       "  <tbody>\n",
       "    <tr>\n",
       "      <th>0</th>\n",
       "      <td>-0.054399</td>\n",
       "      <td>-0.898926</td>\n",
       "      <td>0.366477</td>\n",
       "      <td>1.474878</td>\n",
       "      <td>-0.900951</td>\n",
       "      <td>0.215470</td>\n",
       "      <td>-0.427083</td>\n",
       "      <td>-0.019338</td>\n",
       "      <td>-0.308580</td>\n",
       "      <td>0.112684</td>\n",
       "      <td>...</td>\n",
       "      <td>-0.317979</td>\n",
       "      <td>-0.765928</td>\n",
       "      <td>-0.230627</td>\n",
       "      <td>-0.928105</td>\n",
       "      <td>0.258100</td>\n",
       "      <td>0.850678</td>\n",
       "      <td>-1.073145</td>\n",
       "      <td>-0.380913</td>\n",
       "      <td>-1.238278</td>\n",
       "      <td>-0.703060</td>\n",
       "    </tr>\n",
       "    <tr>\n",
       "      <th>1</th>\n",
       "      <td>-0.245493</td>\n",
       "      <td>0.245725</td>\n",
       "      <td>0.522250</td>\n",
       "      <td>1.847493</td>\n",
       "      <td>0.558010</td>\n",
       "      <td>-0.565006</td>\n",
       "      <td>0.455341</td>\n",
       "      <td>-1.507068</td>\n",
       "      <td>-0.332018</td>\n",
       "      <td>0.198027</td>\n",
       "      <td>...</td>\n",
       "      <td>-0.494849</td>\n",
       "      <td>-0.505776</td>\n",
       "      <td>-0.208011</td>\n",
       "      <td>0.103173</td>\n",
       "      <td>0.478442</td>\n",
       "      <td>-0.385349</td>\n",
       "      <td>-0.857936</td>\n",
       "      <td>1.218723</td>\n",
       "      <td>-1.758589</td>\n",
       "      <td>0.146842</td>\n",
       "    </tr>\n",
       "    <tr>\n",
       "      <th>2</th>\n",
       "      <td>-0.444513</td>\n",
       "      <td>1.005919</td>\n",
       "      <td>-0.188205</td>\n",
       "      <td>-0.726119</td>\n",
       "      <td>0.374615</td>\n",
       "      <td>0.032162</td>\n",
       "      <td>0.309337</td>\n",
       "      <td>-0.076153</td>\n",
       "      <td>-1.699392</td>\n",
       "      <td>0.006598</td>\n",
       "      <td>...</td>\n",
       "      <td>0.255494</td>\n",
       "      <td>0.119236</td>\n",
       "      <td>-1.099652</td>\n",
       "      <td>-0.103608</td>\n",
       "      <td>0.496999</td>\n",
       "      <td>0.463664</td>\n",
       "      <td>1.289823</td>\n",
       "      <td>0.609116</td>\n",
       "      <td>-0.621852</td>\n",
       "      <td>0.517283</td>\n",
       "    </tr>\n",
       "    <tr>\n",
       "      <th>3</th>\n",
       "      <td>-1.362741</td>\n",
       "      <td>-0.647295</td>\n",
       "      <td>-1.671946</td>\n",
       "      <td>-0.098810</td>\n",
       "      <td>0.002994</td>\n",
       "      <td>0.690086</td>\n",
       "      <td>0.105136</td>\n",
       "      <td>-1.852529</td>\n",
       "      <td>-0.833816</td>\n",
       "      <td>0.875632</td>\n",
       "      <td>...</td>\n",
       "      <td>-0.207212</td>\n",
       "      <td>-0.247647</td>\n",
       "      <td>-0.664646</td>\n",
       "      <td>-2.005501</td>\n",
       "      <td>0.674683</td>\n",
       "      <td>-0.610824</td>\n",
       "      <td>-2.123199</td>\n",
       "      <td>-0.024068</td>\n",
       "      <td>-0.205705</td>\n",
       "      <td>-0.896620</td>\n",
       "    </tr>\n",
       "    <tr>\n",
       "      <th>4</th>\n",
       "      <td>-0.346067</td>\n",
       "      <td>-0.537244</td>\n",
       "      <td>-0.834701</td>\n",
       "      <td>0.688931</td>\n",
       "      <td>0.504850</td>\n",
       "      <td>-0.045177</td>\n",
       "      <td>-0.014521</td>\n",
       "      <td>-1.072612</td>\n",
       "      <td>-1.226481</td>\n",
       "      <td>0.717702</td>\n",
       "      <td>...</td>\n",
       "      <td>1.005148</td>\n",
       "      <td>-0.088601</td>\n",
       "      <td>-0.601670</td>\n",
       "      <td>0.499063</td>\n",
       "      <td>-2.506010</td>\n",
       "      <td>1.248196</td>\n",
       "      <td>0.193442</td>\n",
       "      <td>-0.395556</td>\n",
       "      <td>-0.183957</td>\n",
       "      <td>-0.058882</td>\n",
       "    </tr>\n",
       "  </tbody>\n",
       "</table>\n",
       "<p>5 rows × 300 columns</p>\n",
       "</div>"
      ],
      "text/plain": [
       "        0         1         2         3         4         5         6    \\\n",
       "0 -0.054399 -0.898926  0.366477  1.474878 -0.900951  0.215470 -0.427083   \n",
       "1 -0.245493  0.245725  0.522250  1.847493  0.558010 -0.565006  0.455341   \n",
       "2 -0.444513  1.005919 -0.188205 -0.726119  0.374615  0.032162  0.309337   \n",
       "3 -1.362741 -0.647295 -1.671946 -0.098810  0.002994  0.690086  0.105136   \n",
       "4 -0.346067 -0.537244 -0.834701  0.688931  0.504850 -0.045177 -0.014521   \n",
       "\n",
       "        7         8         9      ...          290       291       292  \\\n",
       "0 -0.019338 -0.308580  0.112684    ...    -0.317979 -0.765928 -0.230627   \n",
       "1 -1.507068 -0.332018  0.198027    ...    -0.494849 -0.505776 -0.208011   \n",
       "2 -0.076153 -1.699392  0.006598    ...     0.255494  0.119236 -1.099652   \n",
       "3 -1.852529 -0.833816  0.875632    ...    -0.207212 -0.247647 -0.664646   \n",
       "4 -1.072612 -1.226481  0.717702    ...     1.005148 -0.088601 -0.601670   \n",
       "\n",
       "        293       294       295       296       297       298       299  \n",
       "0 -0.928105  0.258100  0.850678 -1.073145 -0.380913 -1.238278 -0.703060  \n",
       "1  0.103173  0.478442 -0.385349 -0.857936  1.218723 -1.758589  0.146842  \n",
       "2 -0.103608  0.496999  0.463664  1.289823  0.609116 -0.621852  0.517283  \n",
       "3 -2.005501  0.674683 -0.610824 -2.123199 -0.024068 -0.205705 -0.896620  \n",
       "4  0.499063 -2.506010  1.248196  0.193442 -0.395556 -0.183957 -0.058882  \n",
       "\n",
       "[5 rows x 300 columns]"
      ]
     },
     "execution_count": 131,
     "metadata": {},
     "output_type": "execute_result"
    }
   ],
   "source": [
    "w2v_train_df_new.head()"
   ]
  },
  {
   "cell_type": "code",
   "execution_count": 132,
   "metadata": {},
   "outputs": [
    {
     "name": "stderr",
     "output_type": "stream",
     "text": [
      "/home/polichinel/anaconda3/lib/python3.6/site-packages/ipykernel_launcher.py:12: DeprecationWarning: Call to deprecated `__getitem__` (Method will be removed in 4.0.0, use self.wv.__getitem__() instead).\n",
      "  if sys.path[0] == '':\n"
     ]
    }
   ],
   "source": [
    "w2v_X_test_df_new = pd.DataFrame(np.zeros([len(X_test),n_features]))\n",
    "vectors = np.zeros(n_features)\n",
    "dividend = 0\n",
    "\n",
    "\n",
    "for i in range(len(X_test)):\n",
    "    test_sent_list = []\n",
    "    strings = X_test.iloc[i].split()\n",
    "    for j in range(len(strings)):\n",
    "        word = prep2(strings[j].lower())\n",
    "        if len(word) > 0:\n",
    "            clean_word = re.sub(r'[^\\w\\s]','',word[0])\n",
    "            test_sent_list.append(clean_word)\n",
    "            test_sent = \" \".join(test_sent_list)\n",
    "            \n",
    "            w2v_test_df_new.iloc[i] = avg_feature_vector(test_sent, model=word2vec_model, num_features=n_features, index2word_set=index2word_set)"
   ]
  },
  {
   "cell_type": "code",
   "execution_count": 133,
   "metadata": {},
   "outputs": [
    {
     "data": {
      "text/html": [
       "<div>\n",
       "<style scoped>\n",
       "    .dataframe tbody tr th:only-of-type {\n",
       "        vertical-align: middle;\n",
       "    }\n",
       "\n",
       "    .dataframe tbody tr th {\n",
       "        vertical-align: top;\n",
       "    }\n",
       "\n",
       "    .dataframe thead th {\n",
       "        text-align: right;\n",
       "    }\n",
       "</style>\n",
       "<table border=\"1\" class=\"dataframe\">\n",
       "  <thead>\n",
       "    <tr style=\"text-align: right;\">\n",
       "      <th></th>\n",
       "      <th>0</th>\n",
       "      <th>1</th>\n",
       "      <th>2</th>\n",
       "      <th>3</th>\n",
       "      <th>4</th>\n",
       "      <th>5</th>\n",
       "      <th>6</th>\n",
       "      <th>7</th>\n",
       "      <th>8</th>\n",
       "      <th>9</th>\n",
       "      <th>...</th>\n",
       "      <th>290</th>\n",
       "      <th>291</th>\n",
       "      <th>292</th>\n",
       "      <th>293</th>\n",
       "      <th>294</th>\n",
       "      <th>295</th>\n",
       "      <th>296</th>\n",
       "      <th>297</th>\n",
       "      <th>298</th>\n",
       "      <th>299</th>\n",
       "    </tr>\n",
       "  </thead>\n",
       "  <tbody>\n",
       "    <tr>\n",
       "      <th>0</th>\n",
       "      <td>-0.129012</td>\n",
       "      <td>-0.126241</td>\n",
       "      <td>0.185017</td>\n",
       "      <td>-0.299243</td>\n",
       "      <td>0.190867</td>\n",
       "      <td>0.649260</td>\n",
       "      <td>0.943147</td>\n",
       "      <td>0.298890</td>\n",
       "      <td>0.164166</td>\n",
       "      <td>0.768667</td>\n",
       "      <td>...</td>\n",
       "      <td>0.385067</td>\n",
       "      <td>0.758326</td>\n",
       "      <td>-0.739137</td>\n",
       "      <td>-0.519583</td>\n",
       "      <td>0.978376</td>\n",
       "      <td>0.913047</td>\n",
       "      <td>-0.336684</td>\n",
       "      <td>-0.781262</td>\n",
       "      <td>-0.403395</td>\n",
       "      <td>-0.097971</td>\n",
       "    </tr>\n",
       "    <tr>\n",
       "      <th>1</th>\n",
       "      <td>-0.797661</td>\n",
       "      <td>-0.188093</td>\n",
       "      <td>0.900762</td>\n",
       "      <td>-1.532202</td>\n",
       "      <td>0.253304</td>\n",
       "      <td>-0.070168</td>\n",
       "      <td>0.764842</td>\n",
       "      <td>0.721396</td>\n",
       "      <td>0.515865</td>\n",
       "      <td>0.188904</td>\n",
       "      <td>...</td>\n",
       "      <td>0.211069</td>\n",
       "      <td>1.684082</td>\n",
       "      <td>-0.421241</td>\n",
       "      <td>-0.350667</td>\n",
       "      <td>0.513577</td>\n",
       "      <td>1.081578</td>\n",
       "      <td>0.294172</td>\n",
       "      <td>-0.939634</td>\n",
       "      <td>-0.257934</td>\n",
       "      <td>-0.894575</td>\n",
       "    </tr>\n",
       "    <tr>\n",
       "      <th>2</th>\n",
       "      <td>-0.676722</td>\n",
       "      <td>0.330274</td>\n",
       "      <td>-2.105202</td>\n",
       "      <td>-0.675335</td>\n",
       "      <td>0.573635</td>\n",
       "      <td>-0.072640</td>\n",
       "      <td>-0.600303</td>\n",
       "      <td>0.314819</td>\n",
       "      <td>-0.373891</td>\n",
       "      <td>-1.034047</td>\n",
       "      <td>...</td>\n",
       "      <td>0.682201</td>\n",
       "      <td>-0.101029</td>\n",
       "      <td>-0.835240</td>\n",
       "      <td>-0.703531</td>\n",
       "      <td>-0.316828</td>\n",
       "      <td>0.435358</td>\n",
       "      <td>-0.449602</td>\n",
       "      <td>0.954304</td>\n",
       "      <td>0.187077</td>\n",
       "      <td>0.039781</td>\n",
       "    </tr>\n",
       "    <tr>\n",
       "      <th>3</th>\n",
       "      <td>-0.449692</td>\n",
       "      <td>-0.154554</td>\n",
       "      <td>0.891019</td>\n",
       "      <td>0.204117</td>\n",
       "      <td>-0.015264</td>\n",
       "      <td>-0.234119</td>\n",
       "      <td>-0.492392</td>\n",
       "      <td>-0.187396</td>\n",
       "      <td>-1.130936</td>\n",
       "      <td>-0.366347</td>\n",
       "      <td>...</td>\n",
       "      <td>0.556976</td>\n",
       "      <td>-0.146045</td>\n",
       "      <td>0.183433</td>\n",
       "      <td>0.050728</td>\n",
       "      <td>0.787491</td>\n",
       "      <td>0.401750</td>\n",
       "      <td>0.070797</td>\n",
       "      <td>0.210838</td>\n",
       "      <td>-0.047412</td>\n",
       "      <td>-1.086392</td>\n",
       "    </tr>\n",
       "    <tr>\n",
       "      <th>4</th>\n",
       "      <td>-0.782801</td>\n",
       "      <td>-0.888046</td>\n",
       "      <td>-0.401542</td>\n",
       "      <td>-0.081482</td>\n",
       "      <td>0.026026</td>\n",
       "      <td>-0.182862</td>\n",
       "      <td>-0.142001</td>\n",
       "      <td>0.409472</td>\n",
       "      <td>1.151403</td>\n",
       "      <td>0.138334</td>\n",
       "      <td>...</td>\n",
       "      <td>-0.109910</td>\n",
       "      <td>0.278164</td>\n",
       "      <td>-0.149776</td>\n",
       "      <td>0.730950</td>\n",
       "      <td>0.389905</td>\n",
       "      <td>-0.100986</td>\n",
       "      <td>0.723878</td>\n",
       "      <td>-1.130154</td>\n",
       "      <td>-0.491837</td>\n",
       "      <td>-0.247186</td>\n",
       "    </tr>\n",
       "  </tbody>\n",
       "</table>\n",
       "<p>5 rows × 300 columns</p>\n",
       "</div>"
      ],
      "text/plain": [
       "        0         1         2         3         4         5         6    \\\n",
       "0 -0.129012 -0.126241  0.185017 -0.299243  0.190867  0.649260  0.943147   \n",
       "1 -0.797661 -0.188093  0.900762 -1.532202  0.253304 -0.070168  0.764842   \n",
       "2 -0.676722  0.330274 -2.105202 -0.675335  0.573635 -0.072640 -0.600303   \n",
       "3 -0.449692 -0.154554  0.891019  0.204117 -0.015264 -0.234119 -0.492392   \n",
       "4 -0.782801 -0.888046 -0.401542 -0.081482  0.026026 -0.182862 -0.142001   \n",
       "\n",
       "        7         8         9      ...          290       291       292  \\\n",
       "0  0.298890  0.164166  0.768667    ...     0.385067  0.758326 -0.739137   \n",
       "1  0.721396  0.515865  0.188904    ...     0.211069  1.684082 -0.421241   \n",
       "2  0.314819 -0.373891 -1.034047    ...     0.682201 -0.101029 -0.835240   \n",
       "3 -0.187396 -1.130936 -0.366347    ...     0.556976 -0.146045  0.183433   \n",
       "4  0.409472  1.151403  0.138334    ...    -0.109910  0.278164 -0.149776   \n",
       "\n",
       "        293       294       295       296       297       298       299  \n",
       "0 -0.519583  0.978376  0.913047 -0.336684 -0.781262 -0.403395 -0.097971  \n",
       "1 -0.350667  0.513577  1.081578  0.294172 -0.939634 -0.257934 -0.894575  \n",
       "2 -0.703531 -0.316828  0.435358 -0.449602  0.954304  0.187077  0.039781  \n",
       "3  0.050728  0.787491  0.401750  0.070797  0.210838 -0.047412 -1.086392  \n",
       "4  0.730950  0.389905 -0.100986  0.723878 -1.130154 -0.491837 -0.247186  \n",
       "\n",
       "[5 rows x 300 columns]"
      ]
     },
     "execution_count": 133,
     "metadata": {},
     "output_type": "execute_result"
    }
   ],
   "source": [
    "w2v_test_df_new.head()"
   ]
  },
  {
   "cell_type": "code",
   "execution_count": 134,
   "metadata": {},
   "outputs": [],
   "source": [
    "# Stupid framework you have created:\n",
    "X_w2v_new = (w2v_train_df_new, w2v_test_df_new)\n",
    "X_w2v_list_new = [X_w2v_new]"
   ]
  },
  {
   "cell_type": "code",
   "execution_count": 135,
   "metadata": {},
   "outputs": [
    {
     "data": {
      "image/png": "[encoded data removed]",
      "text/plain": [
       "<matplotlib.figure.Figure at 0x7f9f0d77f780>"
      ]
     },
     "metadata": {},
     "output_type": "display_data"
    }
   ],
   "source": [
    "plt.figure(figsize=[8,8])\n",
    "\n",
    "for i in X_w2v_list_new:\n",
    "    clf_lg = LogisticRegression().fit(i[0], y_train)\n",
    "    pred_proba_log = clf_lg.predict_proba(i[1])[:,1]\n",
    "    fpr, tpr, thresholds = metrics.roc_curve(y_test, pred_proba_log)\n",
    "    auc = round(metrics.roc_auc_score(y_test, pred_proba_log), 3)\n",
    "    plt.plot(fpr, tpr, label = \"AUC = \" + str(auc))\n",
    "\n",
    "\n",
    "plt.plot(np.arange(0, 1.1, 0.1), np.arange(0, 1.1, 0.1), linestyle = \"dashed\", color = \"orange\")\n",
    "\n",
    "plt.xlim([-0.1, 1.1])\n",
    "plt.ylim([-0.1, 1.1])\n",
    "#plt.title('ROC curve', fontsize = 18)\n",
    "plt.xlabel('False Positive Rate', fontsize = 18)\n",
    "plt.ylabel('True Positive Rate', fontsize = 18)\n",
    "plt.grid(True)\n",
    "\n",
    "plt.legend(fontsize = 16)\n",
    "#sns.despine(left=True, bottom= True)\n",
    "\n",
    "plt.savefig('roc_all_new.pdf', bbox_inches=\"tight\")\n",
    "\n",
    "plt.show()\n",
    "    "
   ]
  },
  {
   "cell_type": "markdown",
   "metadata": {},
   "source": [
    "### merge with full set"
   ]
  },
  {
   "cell_type": "code",
   "execution_count": 136,
   "metadata": {},
   "outputs": [],
   "source": [
    "# yeah, a unprudent reuse, but it'll do\n",
    "X_train_dtm_all_count = sparse.hstack([X_train_dtm_all_count, w2v_train_df_new])\n",
    "X_test_dtm_all_count = sparse.hstack([X_test_dtm_all_count, w2v_test_df_new])\n",
    "\n",
    "X_dtm_all_count = (X_train_dtm_all_count, X_test_dtm_all_count)\n",
    "X_dtm_count = [X_dtm_all_count]"
   ]
  },
  {
   "cell_type": "code",
   "execution_count": 137,
   "metadata": {},
   "outputs": [
    {
     "data": {
      "image/png": "[encoded data removed]",
      "text/plain": [
       "<matplotlib.figure.Figure at 0x7f9f0d7bc160>"
      ]
     },
     "metadata": {},
     "output_type": "display_data"
    }
   ],
   "source": [
    "plt.figure(figsize=[8,8])\n",
    "\n",
    "for i in X_dtm_count:\n",
    "    clf_lg = LogisticRegression().fit(i[0], y_train)\n",
    "    pred_proba_log = clf_lg.predict_proba(i[1])[:,1]\n",
    "    fpr, tpr, thresholds = metrics.roc_curve(y_test, pred_proba_log)\n",
    "    auc = round(metrics.roc_auc_score(y_test, pred_proba_log), 3)\n",
    "    plt.plot(fpr, tpr, label = \"AUC = \" + str(auc))\n",
    "\n",
    "\n",
    "plt.plot(np.arange(0, 1.1, 0.1), np.arange(0, 1.1, 0.1), linestyle = \"dashed\", color = \"orange\")\n",
    "\n",
    "plt.xlim([-0.1, 1.1])\n",
    "plt.ylim([-0.1, 1.1])\n",
    "#plt.title('ROC curve', fontsize = 18)\n",
    "plt.xlabel('False Positive Rate', fontsize = 18)\n",
    "plt.ylabel('True Positive Rate', fontsize = 18)\n",
    "plt.grid(True)\n",
    "\n",
    "plt.legend(fontsize = 16)\n",
    "#sns.despine(left=True, bottom= True)\n",
    "\n",
    "plt.savefig('roc_all_new.pdf', bbox_inches=\"tight\")\n",
    "\n",
    "plt.show()\n",
    "    "
   ]
  },
  {
   "cell_type": "markdown",
   "metadata": {},
   "source": [
    "# Oversample test:"
   ]
  },
  {
   "cell_type": "code",
   "execution_count": 138,
   "metadata": {},
   "outputs": [],
   "source": [
    "ros = RandomOverSampler(random_state=42)\n",
    "sos = SMOTE(random_state=42)\n",
    "\n",
    "X_dtm_all_count_train_Roversampled, y_Roversampled = ros.fit_sample(X_dtm_all_count[0], y_train)\n",
    "X_dtm_all_count_train_Soversampled, y_Soversampled = sos.fit_sample(X_dtm_all_count[0], y_train)\n",
    "\n",
    "X_dtm_all_count_Rover = (X_dtm_all_count_train_Roversampled, X_test_dtm_all_count)\n",
    "X_dtm_all_count_Sover = (X_dtm_all_count_train_Soversampled, X_test_dtm_all_count)\n",
    "\n",
    "\n",
    "\n",
    "X_dtm_samples = [X_dtm_all_count_Rover,X_dtm_all_count_Sover]\n",
    "y_samples = [y_Roversampled,y_Soversampled]"
   ]
  },
  {
   "cell_type": "code",
   "execution_count": 139,
   "metadata": {},
   "outputs": [
    {
     "data": {
      "image/png": "[encoded data removed]",
      "text/plain": [
       "<matplotlib.figure.Figure at 0x7f9f0d6b4c50>"
      ]
     },
     "metadata": {},
     "output_type": "display_data"
    }
   ],
   "source": [
    "plt.figure(figsize=[8,8])\n",
    "\n",
    "for i in X_dtm_samples:\n",
    "    c = 0\n",
    "    clf_lg = LogisticRegression().fit(i[0], y_samples[c])\n",
    "    pred_proba_log = clf_lg.predict_proba(i[1])[:,1]\n",
    "    fpr, tpr, thresholds = metrics.roc_curve(y_test, pred_proba_log)\n",
    "    auc = round(metrics.roc_auc_score(y_test, pred_proba_log), 3)\n",
    "    plt.plot(fpr, tpr, label = \"AUC = \" + str(auc))\n",
    "    c += 1\n",
    "\n",
    "plt.plot(np.arange(0, 1.1, 0.1), np.arange(0, 1.1, 0.1), linestyle = \"dashed\", color = \"orange\")\n",
    "\n",
    "plt.xlim([-0.1, 1.1])\n",
    "plt.ylim([-0.1, 1.1])\n",
    "#plt.title('ROC curve', fontsize = 18)\n",
    "plt.xlabel('False Positive Rate', fontsize = 18)\n",
    "plt.ylabel('True Positive Rate', fontsize = 18)\n",
    "plt.grid(True)\n",
    "\n",
    "plt.legend(fontsize = 16)\n",
    "#sns.despine(left=True, bottom= True)\n",
    "\n",
    "plt.savefig('roc_all_new.pdf', bbox_inches=\"tight\")\n",
    "\n",
    "plt.show()\n",
    "    "
   ]
  },
  {
   "cell_type": "markdown",
   "metadata": {},
   "source": [
    "# Feature importance - for word2vec mayhaps"
   ]
  },
  {
   "cell_type": "code",
   "execution_count": 141,
   "metadata": {},
   "outputs": [],
   "source": [
    "# clf_rf = RandomForestClassifier(random_state=42).fit(X_dtm_all_count_train_Roversampled, y_Roversampled)\n",
    "# importances = clf_rf.feature_importances_\n",
    "# indices = np.argsort(importances)[::-1]\n",
    "\n",
    "# #Print the feature ranking\n",
    "# print(\"Feature ranking:\")\n",
    "# print(20*\"-\")\n",
    "# for f in range(10):\n",
    "#     print(\"{}. feature number: {}\\n\\tstring: {}\\n\\tImportance: {}\\n\". format(f+1, indices[f], features_vector[indices[f]], importances[indices[f]]))"
   ]
  },
  {
   "cell_type": "markdown",
   "metadata": {},
   "source": [
    "# Feature Selection"
   ]
  },
  {
   "cell_type": "code",
   "execution_count": 53,
   "metadata": {},
   "outputs": [],
   "source": [
    "# What we startout with"
   ]
  },
  {
   "cell_type": "code",
   "execution_count": 142,
   "metadata": {},
   "outputs": [
    {
     "data": {
      "text/plain": [
       "(7288, 146294)"
      ]
     },
     "execution_count": 142,
     "metadata": {},
     "output_type": "execute_result"
    }
   ],
   "source": [
    "X_dtm_all_count_train_Roversampled.shape"
   ]
  },
  {
   "cell_type": "code",
   "execution_count": 143,
   "metadata": {},
   "outputs": [
    {
     "data": {
      "text/plain": [
       "119454"
      ]
     },
     "execution_count": 143,
     "metadata": {},
     "output_type": "execute_result"
    }
   ],
   "source": [
    "len(features_vector) # checks óut. Hope it is in the right order.."
   ]
  },
  {
   "cell_type": "code",
   "execution_count": 144,
   "metadata": {},
   "outputs": [
    {
     "name": "stdout",
     "output_type": "stream",
     "text": [
      "(7288, 33833)\n",
      "(1020, 33833)\n"
     ]
    }
   ],
   "source": [
    "clf_lg = LogisticRegression().fit(X_dtm_all_count_train_Roversampled, y_Roversampled)\n",
    "\n",
    "model = SelectFromModel(clf_lg, prefit=True)\n",
    "X_new_train = model.transform(X_dtm_all_count_train_Roversampled) #It works becouse you have allready fitted the logistic regression on the trainset\n",
    "print(X_new_train.shape)\n",
    "\n",
    "X_new_test = model.transform(X_test_dtm_all_count) #It works becouse you have allready fitted the logistic regression on the trainset\n",
    "print(X_new_test.shape)"
   ]
  },
  {
   "cell_type": "code",
   "execution_count": 145,
   "metadata": {},
   "outputs": [],
   "source": [
    "X_dtm_all_count_Rover_LF = (X_new_train, X_new_test)\n",
    "\n",
    "X_dtm_samples = [X_dtm_all_count_Rover,X_dtm_all_count_Rover_LF]\n",
    "y_samples = [y_Roversampled,y_Roversampled]"
   ]
  },
  {
   "cell_type": "code",
   "execution_count": 146,
   "metadata": {},
   "outputs": [
    {
     "data": {
      "image/png": "[encoded data removed]",
      "text/plain": [
       "<matplotlib.figure.Figure at 0x7f9ed14848d0>"
      ]
     },
     "metadata": {},
     "output_type": "display_data"
    }
   ],
   "source": [
    "\n",
    "\n",
    "plt.figure(figsize=[8,8])\n",
    "\n",
    "for i in X_dtm_samples:\n",
    "    c = 0\n",
    "    clf_lg = LogisticRegression().fit(i[0], y_samples[c])\n",
    "    pred_proba_log = clf_lg.predict_proba(i[1])[:,1]\n",
    "    fpr, tpr, thresholds = metrics.roc_curve(y_test, pred_proba_log)\n",
    "    auc = round(metrics.roc_auc_score(y_test, pred_proba_log), 3)\n",
    "    plt.plot(fpr, tpr, label = \"AUC = \" + str(auc))\n",
    "    c += 1\n",
    "\n",
    "plt.plot(np.arange(0, 1.1, 0.1), np.arange(0, 1.1, 0.1), linestyle = \"dashed\", color = \"orange\")\n",
    "\n",
    "plt.xlim([-0.1, 1.1])\n",
    "plt.ylim([-0.1, 1.1])\n",
    "#plt.title('ROC curve', fontsize = 18)\n",
    "plt.xlabel('False Positive Rate', fontsize = 18)\n",
    "plt.ylabel('True Positive Rate', fontsize = 18)\n",
    "plt.grid(True)\n",
    "\n",
    "plt.legend(fontsize = 16)\n",
    "#sns.despine(left=True, bottom= True)\n",
    "\n",
    "plt.savefig('roc_all_new.pdf', bbox_inches=\"tight\")\n",
    "\n",
    "plt.show()\n",
    "    "
   ]
  },
  {
   "cell_type": "markdown",
   "metadata": {},
   "source": [
    "# Singular Value Dicomposition"
   ]
  },
  {
   "cell_type": "code",
   "execution_count": 147,
   "metadata": {},
   "outputs": [
    {
     "data": {
      "image/png": "[encoded data removed]",
      "text/plain": [
       "<matplotlib.figure.Figure at 0x7f9f0d662e80>"
      ]
     },
     "metadata": {},
     "output_type": "display_data"
    },
    {
     "name": "stdout",
     "output_type": "stream",
     "text": [
      "311\n"
     ]
    }
   ],
   "source": [
    "n_comp = 1000 # Fordi eller tager det en krig\n",
    "\n",
    "from sklearn.decomposition import TruncatedSVD\n",
    "svd = TruncatedSVD(n_components=n_comp, n_iter=10, random_state=42)\n",
    "svd.fit(X_new_train)\n",
    "\n",
    "# ------------------------------------------------------------------\n",
    "\n",
    "svd_exp_var = sorted(svd.explained_variance_ratio_, reverse = True) # should be sotred, but now we are sure\n",
    "svd_range = np.linspace(0,len(svd_exp_var),n_comp)\n",
    "plt.plot(svd_exp_var,svd_range)\n",
    "# xticks\n",
    "\n",
    "plt.show()\n",
    "\n",
    "# -----------------------------------------------------------------\n",
    "\n",
    "c = 0\n",
    "\n",
    "for c in range(0,1000):\n",
    "    if svd.explained_variance_ratio_[:c].sum() >= 0.90:\n",
    "        print(c)\n",
    "        break\n",
    "\n",
    "\n",
    "# --------------------------------------------------------------\n",
    "        \n",
    "n_comp = c # et her kunne være fedt at gøre mere systematisk..\n",
    "\n",
    "from sklearn.decomposition import TruncatedSVD\n",
    "svd = TruncatedSVD(n_components=n_comp, n_iter=10, random_state=42)\n",
    "svd.fit(X_new_train)\n",
    "        \n",
    "svd_train = svd.transform(X_new_train)\n",
    "svd_test = svd.transform(X_new_test)\n",
    "# her mangler da noget?"
   ]
  },
  {
   "cell_type": "code",
   "execution_count": 148,
   "metadata": {},
   "outputs": [
    {
     "name": "stdout",
     "output_type": "stream",
     "text": [
      "(7288, 311)\n",
      "(1020, 311)\n"
     ]
    }
   ],
   "source": [
    "print(svd_train.shape)\n",
    "print(svd_test.shape)"
   ]
  },
  {
   "cell_type": "code",
   "execution_count": 149,
   "metadata": {},
   "outputs": [],
   "source": [
    "X_svd = (svd_train, svd_test)\n",
    "\n",
    "X_dtm_samples = [X_dtm_all_count_Rover_LF,X_svd]\n",
    "y_samples = [y_Roversampled,y_Roversampled]"
   ]
  },
  {
   "cell_type": "code",
   "execution_count": 150,
   "metadata": {},
   "outputs": [
    {
     "data": {
      "image/png": "[encoded data removed]",
      "text/plain": [
       "<matplotlib.figure.Figure at 0x7f9f0d5aecc0>"
      ]
     },
     "metadata": {},
     "output_type": "display_data"
    }
   ],
   "source": [
    "\n",
    "plt.figure(figsize=[8,8])\n",
    "\n",
    "for i in X_dtm_samples:\n",
    "    c = 0\n",
    "    clf_lg = LogisticRegression().fit(i[0], y_samples[c])\n",
    "    pred_proba_log = clf_lg.predict_proba(i[1])[:,1]\n",
    "    fpr, tpr, thresholds = metrics.roc_curve(y_test, pred_proba_log)\n",
    "    auc = round(metrics.roc_auc_score(y_test, pred_proba_log), 3)\n",
    "    plt.plot(fpr, tpr, label = \"AUC = \" + str(auc))\n",
    "    c += 1\n",
    "\n",
    "plt.plot(np.arange(0, 1.1, 0.1), np.arange(0, 1.1, 0.1), linestyle = \"dashed\", color = \"orange\")\n",
    "\n",
    "plt.xlim([-0.1, 1.1])\n",
    "plt.ylim([-0.1, 1.1])\n",
    "#plt.title('ROC curve', fontsize = 18)\n",
    "plt.xlabel('False Positive Rate', fontsize = 18)\n",
    "plt.ylabel('True Positive Rate', fontsize = 18)\n",
    "plt.grid(True)\n",
    "\n",
    "plt.legend(fontsize = 16)\n",
    "#sns.despine(left=True, bottom= True)\n",
    "\n",
    "plt.savefig('roc_all_new.pdf', bbox_inches=\"tight\")\n",
    "\n",
    "plt.show()"
   ]
  },
  {
   "cell_type": "markdown",
   "metadata": {},
   "source": [
    "# Impliment on train_out and test_out:"
   ]
  },
  {
   "cell_type": "code",
   "execution_count": 151,
   "metadata": {},
   "outputs": [],
   "source": [
    "#This is not nessecery, but it's a precoursion\n",
    "del X_train, X_test, y_train, y_test"
   ]
  },
  {
   "cell_type": "code",
   "execution_count": 152,
   "metadata": {},
   "outputs": [],
   "source": [
    "X_train = X_train_out\n",
    "X_test = X_test_out\n",
    "y_train = y_train_out\n",
    "y_test = y_test_out\n"
   ]
  },
  {
   "cell_type": "code",
   "execution_count": 153,
   "metadata": {},
   "outputs": [],
   "source": [
    "unigram_vectorizer = CountVectorizer(tokenizer=prep2) \n",
    "bigram_vectorizer =  CountVectorizer(ngram_range=(2,2), tokenizer=prep2) \n",
    "trigram_vectorizer = CountVectorizer(ngram_range=(3,3), tokenizer=prep2)\n",
    "\n",
    "X_train_dtm_1C = unigram_vectorizer.fit_transform(X_train) \n",
    "X_test_dtm_1C = unigram_vectorizer.transform(X_test)\n",
    "\n",
    "X_dtm_1C = (X_train_dtm_1C, X_test_dtm_1C)\n",
    "\n",
    "X_train_dtm_2C = bigram_vectorizer.fit_transform(X_train) \n",
    "X_test_dtm_2C = bigram_vectorizer.transform(X_test)\n",
    "\n",
    "X_dtm_2C = (X_train_dtm_2C, X_test_dtm_2C)\n",
    "\n",
    "X_train_dtm_3C = trigram_vectorizer.fit_transform(X_train) \n",
    "X_test_dtm_3C = trigram_vectorizer.transform(X_test)\n",
    "\n",
    "X_dtm_3C = (X_train_dtm_3C, X_test_dtm_3C)\n",
    "\n",
    "# --------------------------------------------\n",
    "\n",
    "X_train_dtm_allC = sparse.hstack([X_train_dtm_1C, X_train_dtm_2C, X_train_dtm_3C])\n",
    "X_test_dtm_allC = sparse.hstack([X_test_dtm_1C, X_test_dtm_2C, X_test_dtm_3C])\n",
    "\n",
    "X_dtm_allC = (X_train_dtm_allC, X_test_dtm_allC)\n",
    "\n",
    "# ------------------------------------------\n",
    "X_dtm_C = [X_dtm_1C, X_dtm_2C, X_dtm_3C, X_dtm_allC]"
   ]
  },
  {
   "cell_type": "code",
   "execution_count": 154,
   "metadata": {},
   "outputs": [],
   "source": [
    "unigram_vectorizer = TfidfVectorizer(tokenizer=prep2) \n",
    "bigram_vectorizer =  TfidfVectorizer(ngram_range=(2,2), tokenizer=prep2) \n",
    "trigram_vectorizer = TfidfVectorizer(ngram_range=(3,3), tokenizer=prep2)\n",
    "\n",
    "X_train_dtm_1T = unigram_vectorizer.fit_transform(X_train) \n",
    "X_test_dtm_1T = unigram_vectorizer.transform(X_test)\n",
    "\n",
    "X_dtm_1T = (X_train_dtm_1T, X_test_dtm_1T)\n",
    "\n",
    "\n",
    "X_train_dtm_2T = bigram_vectorizer.fit_transform(X_train) \n",
    "X_test_dtm_2T = bigram_vectorizer.transform(X_test)\n",
    "\n",
    "X_dtm_2T = (X_train_dtm_2T, X_test_dtm_2T)\n",
    "\n",
    "\n",
    "X_train_dtm_3T = trigram_vectorizer.fit_transform(X_train) \n",
    "X_test_dtm_3T = trigram_vectorizer.transform(X_test)\n",
    "\n",
    "X_dtm_3T = (X_train_dtm_3T, X_test_dtm_3T)\n",
    "\n",
    "# -----------------------------------------------\n",
    "X_train_dtm_allT = sparse.hstack([X_train_dtm_1T, X_train_dtm_2T, X_train_dtm_3T])\n",
    "X_test_dtm_allT = sparse.hstack([X_test_dtm_1T, X_test_dtm_2T, X_test_dtm_3T])\n",
    "\n",
    "X_dtm_allT = (X_train_dtm_allT, X_test_dtm_allT)\n",
    "\n",
    "# ------------------------------------------\n",
    "\n",
    "X_dtm_T = [X_dtm_1T, X_dtm_2T, X_dtm_3T, X_dtm_allT]"
   ]
  },
  {
   "cell_type": "code",
   "execution_count": 155,
   "metadata": {},
   "outputs": [],
   "source": [
    "X_train_dtm_all = sparse.hstack([X_train_dtm_allT, X_train_dtm_allC])\n",
    "X_test_dtm_all = sparse.hstack([X_test_dtm_allT, X_test_dtm_allC])\n",
    "\n",
    "X_dtm_all = (X_train_dtm_all, X_test_dtm_all)\n",
    "\n",
    "X_dtm = [X_dtm_all]"
   ]
  },
  {
   "cell_type": "code",
   "execution_count": 156,
   "metadata": {},
   "outputs": [],
   "source": [
    "X_train_count_symb = count_symb(X_train)\n",
    "X_test_count_symb = count_symb(X_test)\n",
    "\n",
    "X_train_dtm_all_count = sparse.hstack([X_train_dtm_all, X_train_count_symb])\n",
    "X_test_dtm_all_count = sparse.hstack([X_test_dtm_all, X_test_count_symb])\n",
    "\n",
    "X_dtm_all_count = (X_train_dtm_all_count, X_test_dtm_all_count)\n",
    "X_dtm_count = [X_dtm_all_count]"
   ]
  },
  {
   "cell_type": "code",
   "execution_count": null,
   "metadata": {},
   "outputs": [],
   "source": []
  },
  {
   "cell_type": "code",
   "execution_count": null,
   "metadata": {},
   "outputs": [],
   "source": []
  },
  {
   "cell_type": "code",
   "execution_count": 157,
   "metadata": {},
   "outputs": [
    {
     "name": "stderr",
     "output_type": "stream",
     "text": [
      "/home/polichinel/anaconda3/lib/python3.6/site-packages/ipykernel_launcher.py:12: DeprecationWarning: Call to deprecated `__getitem__` (Method will be removed in 4.0.0, use self.wv.__getitem__() instead).\n",
      "  if sys.path[0] == '':\n"
     ]
    }
   ],
   "source": [
    "w2v_train_df_new = pd.DataFrame(np.zeros([len(X_train),n_features]))\n",
    "vectors = np.zeros(n_features)\n",
    "dividend = 0\n",
    "\n",
    "\n",
    "for i in range(len(X_train)):\n",
    "    test_sent_list = []\n",
    "    strings = X_train.iloc[i].split()\n",
    "    for j in range(len(strings)):\n",
    "        word = prep2(strings[j].lower())\n",
    "        if len(word) > 0:\n",
    "            clean_word = re.sub(r'[^\\w\\s]','',word[0])\n",
    "            test_sent_list.append(clean_word)\n",
    "            test_sent = \" \".join(test_sent_list)\n",
    "            \n",
    "            w2v_train_df_new.iloc[i] = avg_feature_vector(test_sent, model=word2vec_model, num_features=n_features, index2word_set=index2word_set)\n",
    "\n",
    "\n",
    "w2v_X_test_df_new = pd.DataFrame(np.zeros([len(X_test),n_features]))\n",
    "vectors = np.zeros(n_features)\n",
    "dividend = 0\n",
    "\n",
    "\n",
    "for i in range(len(X_test)):\n",
    "    test_sent_list = []\n",
    "    strings = X_test.iloc[i].split()\n",
    "    for j in range(len(strings)):\n",
    "        word = prep2(strings[j].lower())\n",
    "        if len(word) > 0:\n",
    "            clean_word = re.sub(r'[^\\w\\s]','',word[0])\n",
    "            test_sent_list.append(clean_word)\n",
    "            test_sent = \" \".join(test_sent_list)\n",
    "            \n",
    "            w2v_test_df_new.iloc[i] = avg_feature_vector(test_sent, model=word2vec_model, num_features=n_features, index2word_set=index2word_set)\n",
    "\n",
    "# Stupid framework you have created:\n",
    "X_w2v_new = (w2v_train_df_new, w2v_test_df_new)\n",
    "X_w2v_list_new = [X_w2v_new]\n",
    "\n",
    "\n",
    "# yeah, a unprudent reuse, but it'll do\n",
    "X_train_dtm_all_count = sparse.hstack([X_train_dtm_all_count, w2v_train_df_new])\n",
    "X_test_dtm_all_count = sparse.hstack([X_test_dtm_all_count, w2v_test_df_new])\n",
    "\n",
    "X_dtm_all_count = (X_train_dtm_all_count, X_test_dtm_all_count)\n",
    "X_dtm_count = [X_dtm_all_count]"
   ]
  },
  {
   "cell_type": "code",
   "execution_count": null,
   "metadata": {},
   "outputs": [],
   "source": []
  },
  {
   "cell_type": "code",
   "execution_count": null,
   "metadata": {},
   "outputs": [],
   "source": []
  },
  {
   "cell_type": "code",
   "execution_count": 158,
   "metadata": {},
   "outputs": [],
   "source": [
    "# You don't end up using smote... But leave it here for now.\n",
    "ros = RandomOverSampler(random_state=42)\n",
    "sos = SMOTE(random_state=42)\n",
    "\n",
    "X_dtm_all_count_train_Roversampled, y_Roversampled = ros.fit_sample(X_dtm_all_count[0], y_train)\n",
    "X_dtm_all_count_train_Soversampled, y_Soversampled = sos.fit_sample(X_dtm_all_count[0], y_train)\n",
    "\n",
    "X_dtm_all_count_Rover = (X_dtm_all_count_train_Roversampled, X_test_dtm_all_count)\n",
    "X_dtm_all_count_Sover = (X_dtm_all_count_train_Soversampled, X_test_dtm_all_count)\n",
    "\n",
    "\n",
    "\n",
    "X_dtm_samples = [X_dtm_all_count_Rover,X_dtm_all_count_Sover]\n",
    "y_samples = [y_Roversampled,y_Soversampled]"
   ]
  },
  {
   "cell_type": "code",
   "execution_count": 159,
   "metadata": {},
   "outputs": [
    {
     "data": {
      "text/plain": [
       "(7288, 146294)"
      ]
     },
     "execution_count": 159,
     "metadata": {},
     "output_type": "execute_result"
    }
   ],
   "source": [
    "X_dtm_all_count_train_Roversampled.shape"
   ]
  },
  {
   "cell_type": "code",
   "execution_count": 160,
   "metadata": {},
   "outputs": [
    {
     "name": "stdout",
     "output_type": "stream",
     "text": [
      "(7288, 33833)\n",
      "(1020, 33833)\n"
     ]
    }
   ],
   "source": [
    "clf_lg = LogisticRegression().fit(X_dtm_all_count_train_Roversampled, y_Roversampled)\n",
    "\n",
    "model = SelectFromModel(clf_lg, prefit=True)\n",
    "X_new_train = model.transform(X_dtm_all_count_train_Roversampled) #It works becouse you have allready fitted the logistic regression on the trainset\n",
    "print(X_new_train.shape)\n",
    "\n",
    "X_new_test = model.transform(X_test_dtm_all_count) #It works becouse you have allready fitted the logistic regression on the trainset\n",
    "print(X_new_test.shape)"
   ]
  },
  {
   "cell_type": "code",
   "execution_count": 161,
   "metadata": {},
   "outputs": [],
   "source": [
    "X_dtm_all_count_Rover_LF = (X_new_train, X_new_test)\n",
    "\n",
    "X_dtm_samples = [X_dtm_all_count_Rover,X_dtm_all_count_Rover_LF]\n",
    "y_samples = [y_Roversampled,y_Roversampled]"
   ]
  },
  {
   "cell_type": "code",
   "execution_count": 162,
   "metadata": {},
   "outputs": [
    {
     "name": "stdout",
     "output_type": "stream",
     "text": [
      "311\n"
     ]
    }
   ],
   "source": [
    "n_comp = 1000 # Fordi eller tager det en krig\n",
    "\n",
    "svd = TruncatedSVD(n_components=n_comp, n_iter=10, random_state=42)\n",
    "svd.fit(X_new_train)\n",
    "\n",
    "# ------------------------------------------------------------------\n",
    "\n",
    "# svd_exp_var = sorted(svd.explained_variance_ratio_, reverse = True) # should be sotred, but now we are sure\n",
    "# svd_range = np.linspace(0,len(svd_exp_var),n_comp)\n",
    "# plt.plot(svd_exp_var,svd_range)\n",
    "# # xticks\n",
    "\n",
    "# plt.show()\n",
    "\n",
    "# -----------------------------------------------------------------\n",
    "\n",
    "c = 0\n",
    "\n",
    "for c in range(0,1000):\n",
    "    if svd.explained_variance_ratio_[:c].sum() >= 0.90:\n",
    "        print(c)\n",
    "        break\n",
    "\n",
    "\n",
    "# --------------------------------------------------------------\n",
    "        \n",
    "n_comp = c # et her kunne være fedt at gøre mere systematisk..\n",
    "\n",
    "from sklearn.decomposition import TruncatedSVD\n",
    "svd = TruncatedSVD(n_components=n_comp, n_iter=10, random_state=42)\n",
    "svd.fit(X_new_train)\n",
    "        \n",
    "svd_train = svd.transform(X_new_train)\n",
    "svd_test = svd.transform(X_new_test)"
   ]
  },
  {
   "cell_type": "code",
   "execution_count": 163,
   "metadata": {},
   "outputs": [],
   "source": [
    "X_svd = (svd_train, svd_test)\n",
    "\n",
    "X_dtm_samples = [X_dtm_all_count_Rover_LF,X_svd]\n",
    "y_samples = [y_Roversampled,y_Roversampled]"
   ]
  },
  {
   "cell_type": "code",
   "execution_count": 164,
   "metadata": {},
   "outputs": [
    {
     "name": "stdout",
     "output_type": "stream",
     "text": [
      "Non SVD\n",
      "(7288, 33833)\n",
      "(1020, 33833)\n",
      "\n",
      "SVD\n",
      "(7288, 311)\n",
      "(1020, 311)\n",
      "\n",
      "Target\n",
      "(7288,)\n",
      "(1020,)\n"
     ]
    }
   ],
   "source": [
    "print(\"Non SVD\")\n",
    "print(X_dtm_all_count_Rover_LF[0].shape)\n",
    "print(X_dtm_all_count_Rover_LF[1].shape)\n",
    "\n",
    "print(\"\\nSVD\")\n",
    "print(svd_train.shape)\n",
    "print(svd_test.shape)\n",
    "\n",
    "print(\"\\nTarget\")\n",
    "print(y_Roversampled.shape)\n",
    "print(y_test.shape)"
   ]
  },
  {
   "cell_type": "markdown",
   "metadata": {},
   "source": [
    "# Pickle it!"
   ]
  },
  {
   "cell_type": "code",
   "execution_count": 165,
   "metadata": {},
   "outputs": [],
   "source": [
    "data_svd = {\"y_test\" : y_test,\"y_train\" : y_Roversampled, \"X_train\" : svd_train, \"X_test\" : svd_test}\n",
    "data_non_svd = {\"y_test\" : y_test,\"y_train\" : y_Roversampled, \"X_train\" : X_dtm_all_count_Rover_LF[0], \"X_test\" : X_dtm_all_count_Rover_LF[1]}"
   ]
  },
  {
   "cell_type": "code",
   "execution_count": 166,
   "metadata": {},
   "outputs": [],
   "source": [
    "output = open('data_svd.pkl', 'wb')\n",
    "\n",
    "# Pickle dictionary using protocol 0.\n",
    "pickle.dump(data_svd, output)\n",
    "\n",
    "output.close()\n"
   ]
  },
  {
   "cell_type": "code",
   "execution_count": 167,
   "metadata": {},
   "outputs": [],
   "source": [
    "output = open('data_non_svd.pkl', 'wb')\n",
    "\n",
    "# Pickle dictionary using protocol 0.\n",
    "pickle.dump(data_non_svd, output)\n",
    "\n",
    "output.close()"
   ]
  },
  {
   "cell_type": "markdown",
   "metadata": {},
   "source": [
    "### Done"
   ]
  }
 ],
 "metadata": {
  "kernelspec": {
   "display_name": "Python 3",
   "language": "python",
   "name": "python3"
  },
  "language_info": {
   "codemirror_mode": {
    "name": "ipython",
    "version": 3
   },
   "file_extension": ".py",
   "mimetype": "text/x-python",
   "name": "python",
   "nbconvert_exporter": "python",
   "pygments_lexer": "ipython3",
   "version": "3.6.3"
  }
 },
 "nbformat": 4,
 "nbformat_minor": 2
}
