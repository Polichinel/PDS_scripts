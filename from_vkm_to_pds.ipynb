{
 "cells": [
  {
   "cell_type": "markdown",
   "metadata": {},
   "source": [
    "### Purpose:\n",
    "\n",
    "This is jus a very short script to merge, sort and inspect the data I used in VKM before I start processing it for PDS."
   ]
  },
  {
   "cell_type": "code",
   "execution_count": 2,
   "metadata": {},
   "outputs": [],
   "source": [
    "import pandas as pd"
   ]
  },
  {
   "cell_type": "markdown",
   "metadata": {},
   "source": [
    "Fistly merge all unlabled tweets. I don't keep any other information then the text, since the is just for constructing my corpus."
   ]
  },
  {
   "cell_type": "code",
   "execution_count": 20,
   "metadata": {},
   "outputs": [],
   "source": [
    "trump = pd.read_csv(\"/home/polichinel/Dropbox/KU/8. semester/PDS/eksamen/from_vkm/unlabled_tweets/2k_trump_tweets_nolabel.csv\", index_col=0) #nogle forskudte rækker her..\n",
    "k10 = pd.read_csv(\"/home/polichinel/Dropbox/KU/8. semester/PDS/eksamen/from_vkm/unlabled_tweets/10k_tweets.csv\", index_col=0)\n",
    "k30 = pd.read_csv(\"/home/polichinel/Dropbox/KU/8. semester/PDS/eksamen/from_vkm/unlabled_tweets/many_tweets.csv\", index_col=0)\n",
    "sub = pd.read_csv(\"/home/polichinel/Dropbox/KU/8. semester/PDS/eksamen/from_vkm/unlabled_tweets/2k_tweet_div_sub_test.csv\", index_col=0)\n",
    "\n",
    "trump_text = trump.iloc[:,[1]]\n",
    "k10_text = k10.iloc[:,[1]]\n",
    "k30_text = k30.iloc[:,[1]]\n",
    "sub_text = sub.iloc[:,[1]]"
   ]
  },
  {
   "cell_type": "code",
   "execution_count": 25,
   "metadata": {},
   "outputs": [],
   "source": [
    "all_tweets = pd.concat([trump_text, k10_text, k30_text, sub_text])\n",
    "all_tweets.shape"
   ]
  },
  {
   "cell_type": "code",
   "execution_count": 36,
   "metadata": {},
   "outputs": [],
   "source": [
    "all_tweets.to_csv(\"all_unlabled_tweets.csv\")"
   ]
  },
  {
   "cell_type": "markdown",
   "metadata": {},
   "source": [
    "And the labled tweets:"
   ]
  },
  {
   "cell_type": "code",
   "execution_count": 49,
   "metadata": {},
   "outputs": [
    {
     "name": "stdout",
     "output_type": "stream",
     "text": [
      "(5099, 2)\n",
      "542.0\n"
     ]
    }
   ],
   "source": [
    "labled_tweets = pd.read_csv(\"/home/polichinel/Dropbox/KU/8. semester/PDS/eksamen/from_vkm/labled_tweets/B_final_df.csv\", index_col=0) # you don't use the ID or ac_dem_pref\n",
    "labled_tweets_concise = labled_tweets.iloc[:,1:3]\n",
    "print(labled_tweets_concise.shape)\n",
    "print(labled_tweets_concise.lacking_dem_pref.sum())"
   ]
  },
  {
   "cell_type": "code",
   "execution_count": 48,
   "metadata": {},
   "outputs": [],
   "source": [
    "labled_tweets_concise.to_csv(\"labled_tweets.csv\")"
   ]
  }
 ],
 "metadata": {
  "kernelspec": {
   "display_name": "Python 3",
   "language": "python",
   "name": "python3"
  },
  "language_info": {
   "codemirror_mode": {
    "name": "ipython",
    "version": 3
   },
   "file_extension": ".py",
   "mimetype": "text/x-python",
   "name": "python",
   "nbconvert_exporter": "python",
   "pygments_lexer": "ipython3",
   "version": "3.6.3"
  }
 },
 "nbformat": 4,
 "nbformat_minor": 2
}
